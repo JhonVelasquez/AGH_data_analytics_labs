{
 "cells": [
  {
   "cell_type": "markdown",
   "id": "90454e95",
   "metadata": {},
   "source": [
    "# Lab 6 - Gaussian Process"
   ]
  },
  {
   "cell_type": "markdown",
   "id": "eb2010f5",
   "metadata": {},
   "source": [
    "In general, Gaussian Process (GP) is a stochastic process used for modeling data, which were observed over time, space or both. Main thing that can characterise GP is that is a kind of generalization of normal probability distributions, where each of them describes a random variable (scalar or vector if we deal with multivariate distribution).\n",
    "\n",
    "Following definition captures the essence of Gaussian Process: \n",
    "\n",
    "A Gaussian process is a collection of random variables, any Gaussian process finite number of which have a joint Gaussian distribution.\n",
    "\n",
    "\n",
    "If we define mean function $m(x)$ and the covariance function mean function $k(x,x')$ of a real process $f(x)$ as:\n",
    "\\begin{equation}\n",
    "m(x) = E[f(x)]\n",
    "\\end{equation}\n",
    "\\begin{equation}\n",
    "k(x,x') = E[f(x)-m(x))(f(x')-m(x'))]\n",
    "\\end{equation}\n",
    "Then we can define GP can as:\n",
    "\\begin{equation}\n",
    "\\label{eq:gpmain}\n",
    "f(x) \\sim GP(m(x),k(x,x'))\n",
    "\\end{equation}\n",
    "\n",
    "\n",
    "GP can be fully determined by only declaring mean and covariance functions. Mean in most cases is set to value \"0\", because such a setting can be useful, simplifies matters and is not a difficult requirement to fulfill. Of course, there are examples\n",
    "where we would like to change the mean e.g. for better model interpretability or the \n",
    "specification of our prior. Covariance function (also called kernel function) represents\n",
    "a similarity between data points. Note that usually covariance is chosen from\n",
    "the set of already defined functions. The one should at least pick one, which represents\n",
    "prior beliefs of the problem. But in fact, covariance function can be any function, which\n",
    "has the property of generating a positive definite covariance matrix. Anyway, creating \n",
    "and defining new covariance functions, which will simultaneously be correct and have a\n",
    "practical usage, can be really difficult\n",
    "\n",
    "The most basic and common kernel function is Radial Basis Function (RBF), which is defined with the formula:\n",
    "\\begin{equation}\n",
    "\\label{eq:rbf}\n",
    "k\\left(x_{i}, x_{j}\\right)=\\exp \\left(-\\frac{d\\left(x_{i}, x_{j}\\right)^{2}}{2 l^{2}}\\right)\n",
    "\\end{equation}\n",
    "Its main property is that its value is usually only dependent on the distance from the specified point. The parameter which RBF kernel uses is $l$ as a characteristic length scale. RBF is infinitely differentiable. That means the GP with this kernel has a mean square derivatives for all orders. Other worth noting kernel, in terms of our classess is one from exponentiated quadratic family, where $\\rho$ is length-scale and $\\alpha$ is marginal deviation:\n",
    "$$\n",
    "k\\left(x_{1}, x_{2}\\right)=\\alpha^{2} \\exp \\left(-\\frac{1}{2}\\left(\\frac{\\left|x_{1}-x_{2}\\right|}{\\rho}\\right)^{2}\\right)\n",
    "$$\n",
    "Gaussian Process is growing in popularity of usage in domains connected with statistics and machine learning. It is especially efficient solution, while we are dealing with a problem of obtaining data e.g. for faulty cases or just an overall lack of comprehensive data and if we want to obtain not only prediction but also confidence interval. Main areas where GP is used for are: regression, prediction, classification and identification. On this classes we will focuse on a simple task of regression."
   ]
  },
  {
   "cell_type": "markdown",
   "id": "8c5df2c0",
   "metadata": {},
   "source": [
    "### Task 1: simulating from Gaussian Process model"
   ]
  },
  {
   "cell_type": "markdown",
   "id": "1542b3b0",
   "metadata": {},
   "source": [
    "To make any simulations, first you need a set of observations:"
   ]
  },
  {
   "cell_type": "code",
   "execution_count": 57,
   "id": "35c1ca49",
   "metadata": {},
   "outputs": [],
   "source": [
    "from cmdstanpy import CmdStanModel\n",
    "\n",
    "import arviz as az\n",
    "import numpy as np\n",
    "import scipy.stats as stats\n",
    "\n",
    "import pandas as pd\n",
    "\n",
    "import matplotlib.pyplot as plt\n",
    "import matplotlib as mpl"
   ]
  },
  {
   "cell_type": "code",
   "execution_count": 58,
   "id": "87dc0f41",
   "metadata": {},
   "outputs": [],
   "source": [
    "#Observed data\n",
    "x_obs = [-10, -8, -6, -4, -2, 0, 2, 4, 6, 8, 10]\n",
    "y_obs = [0.328572824089476, 4.20607004111644, 1.35507551134795,\n",
    "0.161608755204364, -5.42320349780782, -3.05851276224202, -0.0764172642034502,\n",
    "-4.55218472276499, -0.902226297922731, -5.8609833528976, -1.05854090910473]"
   ]
  },
  {
   "cell_type": "markdown",
   "id": "2c488b57",
   "metadata": {},
   "source": [
    "Model also needs sampling space and the indexes of where our observed data resides there. \n",
    "For your convenience, we provide them below:"
   ]
  },
  {
   "cell_type": "code",
   "execution_count": 59,
   "id": "3cc64fea",
   "metadata": {},
   "outputs": [],
   "source": [
    "x_predict = np.linspace(-11,11,551,endpoint=True)\n",
    "observed_idx = [26, 76, 126, 176, 226, 276, 326, 376, 426, 476, 526]"
   ]
  },
  {
   "cell_type": "code",
   "execution_count": 60,
   "id": "d8006436",
   "metadata": {},
   "outputs": [
    {
     "name": "stdout",
     "output_type": "stream",
     "text": [
      "-9.96\n",
      "-7.96\n",
      "-5.96\n",
      "-3.96\n",
      "-1.959999999999999\n",
      "0.040000000000000924\n",
      "2.040000000000001\n",
      "4.040000000000001\n",
      "6.039999999999999\n",
      "8.04\n",
      "10.04\n"
     ]
    }
   ],
   "source": [
    "for asd in observed_idx:\n",
    "    print(x_predict[asd])"
   ]
  },
  {
   "cell_type": "markdown",
   "id": "3fc7b7ff",
   "metadata": {},
   "source": [
    "In this example we are using kernel from exponentiated quadratic family, so we need to provide its hyperparameters (alpha and rho). Moreover, for sample generation, we would like to set a sigma value. Let's start with some arbitrarily selected parameters:"
   ]
  },
  {
   "cell_type": "code",
   "execution_count": 61,
   "id": "a958c173",
   "metadata": {},
   "outputs": [],
   "source": [
    "alpha = 3\n",
    "rho = 5.5\n",
    "sigma = 2"
   ]
  },
  {
   "cell_type": "markdown",
   "id": "5e110baf",
   "metadata": {},
   "source": [
    "Now we can create a model and sample from it. Do not forget to define proper data value based on requirements from stan model."
   ]
  },
  {
   "cell_type": "code",
   "execution_count": 62,
   "id": "f969aa90",
   "metadata": {},
   "outputs": [
    {
     "name": "stderr",
     "output_type": "stream",
     "text": [
      "INFO:cmdstanpy:found newer exe file, not recompiling\n"
     ]
    }
   ],
   "source": [
    "model = CmdStanModel(stan_file='gaussian_process.stan')"
   ]
  },
  {
   "cell_type": "code",
   "execution_count": 63,
   "id": "7e3bcc21",
   "metadata": {},
   "outputs": [],
   "source": [
    "data=dict(\n",
    "    N_predict=len(x_predict),\n",
    "    x_predict=x_predict,\n",
    "    N_obs=len(y_obs),\n",
    "    y_obs=y_obs,\n",
    "    observed_idx=observed_idx,\n",
    "    rho=rho,\n",
    "    alpha=alpha,\n",
    "    sigma=sigma\n",
    ")"
   ]
  },
  {
   "cell_type": "code",
   "execution_count": 64,
   "id": "69ce7ae5",
   "metadata": {},
   "outputs": [
    {
     "name": "stderr",
     "output_type": "stream",
     "text": [
      "INFO:cmdstanpy:CmdStan start procesing\n",
      "chain 1 |\u001b[33m          \u001b[0m| 00:00 Status\n",
      "\u001b[A\n",
      "\n",
      "chain 1 |\u001b[33m▉         \u001b[0m| 00:00 Iteration:    1 / 2000 [  0%]  (Warmup)\n",
      "\n",
      "\u001b[A\u001b[A\n",
      "chain 1 |\u001b[33m█▎        \u001b[0m| 00:01 Iteration:  100 / 2000 [  5%]  (Warmup)\n",
      "\u001b[A\n",
      "\n",
      "chain 1 |\u001b[33m█▊        \u001b[0m| 00:02 Iteration:  200 / 2000 [ 10%]  (Warmup)\n",
      "\n",
      "\u001b[A\u001b[A\n",
      "chain 1 |\u001b[33m██▎       \u001b[0m| 00:03 Iteration:  300 / 2000 [ 15%]  (Warmup)\n",
      "\u001b[A\n",
      "\n",
      "chain 1 |\u001b[33m██▋       \u001b[0m| 00:04 Iteration:  400 / 2000 [ 20%]  (Warmup)\n",
      "\u001b[A\n",
      "\n",
      "chain 1 |\u001b[33m███▏      \u001b[0m| 00:04 Iteration:  500 / 2000 [ 25%]  (Warmup)\n",
      "\u001b[A\n",
      "\n",
      "chain 1 |\u001b[33m███▋      \u001b[0m| 00:05 Iteration:  600 / 2000 [ 30%]  (Warmup)\n",
      "\u001b[A\n",
      "\n",
      "chain 1 |\u001b[33m████      \u001b[0m| 00:05 Iteration:  700 / 2000 [ 35%]  (Warmup)\n",
      "\u001b[A\n",
      "\n",
      "chain 1 |\u001b[33m████▌     \u001b[0m| 00:06 Iteration:  800 / 2000 [ 40%]  (Warmup)\n",
      "\u001b[A\n",
      "\n",
      "chain 1 |\u001b[33m█████     \u001b[0m| 00:07 Iteration:  900 / 2000 [ 45%]  (Warmup)\n",
      "\u001b[A\n",
      "\n",
      "chain 1 |\u001b[34m█████▉    \u001b[0m| 00:08 Iteration: 1001 / 2000 [ 50%]  (Sampling)\n",
      "\u001b[A\n",
      "\n",
      "chain 1 |\u001b[34m██████▎   \u001b[0m| 00:08 Iteration: 1100 / 2000 [ 55%]  (Sampling)\n",
      "\u001b[A\n",
      "\n",
      "chain 1 |\u001b[34m██████▊   \u001b[0m| 00:09 Iteration: 1200 / 2000 [ 60%]  (Sampling)\n",
      "\u001b[A\n",
      "\n",
      "chain 1 |\u001b[34m███████▎  \u001b[0m| 00:10 Iteration: 1300 / 2000 [ 65%]  (Sampling)\n",
      "\u001b[A\n",
      "\n",
      "chain 1 |\u001b[34m███████▋  \u001b[0m| 00:11 Iteration: 1400 / 2000 [ 70%]  (Sampling)\n",
      "\u001b[A\n",
      "\n",
      "chain 1 |\u001b[34m████████▏ \u001b[0m| 00:12 Iteration: 1500 / 2000 [ 75%]  (Sampling)\n",
      "\u001b[A\n",
      "\n",
      "chain 1 |\u001b[34m████████▋ \u001b[0m| 00:12 Iteration: 1600 / 2000 [ 80%]  (Sampling)\n",
      "\u001b[A\n",
      "\n",
      "chain 1 |\u001b[34m█████████ \u001b[0m| 00:13 Iteration: 1700 / 2000 [ 85%]  (Sampling)\n",
      "\u001b[A\n",
      "\n",
      "chain 1 |\u001b[34m█████████▌\u001b[0m| 00:14 Iteration: 1800 / 2000 [ 90%]  (Sampling)\n",
      "\u001b[A\n",
      "\n",
      "chain 1 |\u001b[34m██████████\u001b[0m| 00:15 Iteration: 1900 / 2000 [ 95%]  (Sampling)\n",
      "\u001b[A\n",
      "\n",
      "chain 1 |\u001b[34m██████████\u001b[0m| 00:15 Sampling completed                       \n",
      "chain 2 |\u001b[34m██████████\u001b[0m| 00:15 Sampling completed                       \n",
      "chain 3 |\u001b[34m██████████\u001b[0m| 00:15 Sampling completed                       \n",
      "chain 4 |\u001b[34m██████████\u001b[0m| 00:15 Sampling completed                       "
     ]
    },
    {
     "name": "stdout",
     "output_type": "stream",
     "text": [
      "                                                                                                                                                                                                                                                                                                                                "
     ]
    },
    {
     "name": "stderr",
     "output_type": "stream",
     "text": [
      "\n",
      "INFO:cmdstanpy:CmdStan done processing.\n"
     ]
    },
    {
     "name": "stdout",
     "output_type": "stream",
     "text": [
      "\n"
     ]
    }
   ],
   "source": [
    "result = model.sample(data=data, chains = 4)"
   ]
  },
  {
   "cell_type": "markdown",
   "id": "852a2439",
   "metadata": {},
   "source": [
    "Your task now is to:\n",
    "- plot few (about 5-10) samples generated from model\n",
    "- plot mean value from model with its confidence interval (standar deviation, using errorbar function)\n",
    "\n",
    "Also on each plot place points with obsserved data. Repeat the steps for two other parameters sets of your choice"
   ]
  },
  {
   "cell_type": "code",
   "execution_count": 65,
   "id": "b5d8707e",
   "metadata": {},
   "outputs": [
    {
     "data": {
      "text/html": [
       "<div>\n",
       "<style scoped>\n",
       "    .dataframe tbody tr th:only-of-type {\n",
       "        vertical-align: middle;\n",
       "    }\n",
       "\n",
       "    .dataframe tbody tr th {\n",
       "        vertical-align: top;\n",
       "    }\n",
       "\n",
       "    .dataframe thead th {\n",
       "        text-align: right;\n",
       "    }\n",
       "</style>\n",
       "<table border=\"1\" class=\"dataframe\">\n",
       "  <thead>\n",
       "    <tr style=\"text-align: right;\">\n",
       "      <th></th>\n",
       "      <th>Mean</th>\n",
       "      <th>MCSE</th>\n",
       "      <th>StdDev</th>\n",
       "      <th>5%</th>\n",
       "      <th>50%</th>\n",
       "      <th>95%</th>\n",
       "      <th>N_Eff</th>\n",
       "      <th>N_Eff/s</th>\n",
       "      <th>R_hat</th>\n",
       "    </tr>\n",
       "    <tr>\n",
       "      <th>name</th>\n",
       "      <th></th>\n",
       "      <th></th>\n",
       "      <th></th>\n",
       "      <th></th>\n",
       "      <th></th>\n",
       "      <th></th>\n",
       "      <th></th>\n",
       "      <th></th>\n",
       "      <th></th>\n",
       "    </tr>\n",
       "  </thead>\n",
       "  <tbody>\n",
       "    <tr>\n",
       "      <th>lp__</th>\n",
       "      <td>-280.000</td>\n",
       "      <td>0.4800</td>\n",
       "      <td>17.00</td>\n",
       "      <td>-310.00</td>\n",
       "      <td>-280.000</td>\n",
       "      <td>-250.0</td>\n",
       "      <td>1200.0</td>\n",
       "      <td>39.0</td>\n",
       "      <td>1.0</td>\n",
       "    </tr>\n",
       "    <tr>\n",
       "      <th>f_tilde[1]</th>\n",
       "      <td>0.550</td>\n",
       "      <td>0.0067</td>\n",
       "      <td>0.52</td>\n",
       "      <td>-0.31</td>\n",
       "      <td>0.550</td>\n",
       "      <td>1.4</td>\n",
       "      <td>6011.0</td>\n",
       "      <td>191.0</td>\n",
       "      <td>1.0</td>\n",
       "    </tr>\n",
       "    <tr>\n",
       "      <th>f_tilde[2]</th>\n",
       "      <td>0.300</td>\n",
       "      <td>0.0120</td>\n",
       "      <td>0.82</td>\n",
       "      <td>-1.00</td>\n",
       "      <td>0.300</td>\n",
       "      <td>1.7</td>\n",
       "      <td>4715.0</td>\n",
       "      <td>150.0</td>\n",
       "      <td>1.0</td>\n",
       "    </tr>\n",
       "    <tr>\n",
       "      <th>f_tilde[3]</th>\n",
       "      <td>-0.370</td>\n",
       "      <td>0.0110</td>\n",
       "      <td>0.87</td>\n",
       "      <td>-1.80</td>\n",
       "      <td>-0.370</td>\n",
       "      <td>1.1</td>\n",
       "      <td>6301.0</td>\n",
       "      <td>200.0</td>\n",
       "      <td>1.0</td>\n",
       "    </tr>\n",
       "    <tr>\n",
       "      <th>f_tilde[4]</th>\n",
       "      <td>-0.085</td>\n",
       "      <td>0.0120</td>\n",
       "      <td>1.00</td>\n",
       "      <td>-1.80</td>\n",
       "      <td>-0.087</td>\n",
       "      <td>1.6</td>\n",
       "      <td>7411.0</td>\n",
       "      <td>235.0</td>\n",
       "      <td>1.0</td>\n",
       "    </tr>\n",
       "    <tr>\n",
       "      <th>...</th>\n",
       "      <td>...</td>\n",
       "      <td>...</td>\n",
       "      <td>...</td>\n",
       "      <td>...</td>\n",
       "      <td>...</td>\n",
       "      <td>...</td>\n",
       "      <td>...</td>\n",
       "      <td>...</td>\n",
       "      <td>...</td>\n",
       "    </tr>\n",
       "    <tr>\n",
       "      <th>y_predict[547]</th>\n",
       "      <td>-2.000</td>\n",
       "      <td>0.0350</td>\n",
       "      <td>2.40</td>\n",
       "      <td>-6.00</td>\n",
       "      <td>-2.000</td>\n",
       "      <td>2.1</td>\n",
       "      <td>4801.0</td>\n",
       "      <td>152.0</td>\n",
       "      <td>1.0</td>\n",
       "    </tr>\n",
       "    <tr>\n",
       "      <th>y_predict[548]</th>\n",
       "      <td>-2.000</td>\n",
       "      <td>0.0370</td>\n",
       "      <td>2.50</td>\n",
       "      <td>-6.30</td>\n",
       "      <td>-2.000</td>\n",
       "      <td>2.2</td>\n",
       "      <td>4799.0</td>\n",
       "      <td>152.0</td>\n",
       "      <td>1.0</td>\n",
       "    </tr>\n",
       "    <tr>\n",
       "      <th>y_predict[549]</th>\n",
       "      <td>-1.900</td>\n",
       "      <td>0.0380</td>\n",
       "      <td>2.50</td>\n",
       "      <td>-6.00</td>\n",
       "      <td>-1.900</td>\n",
       "      <td>2.2</td>\n",
       "      <td>4222.0</td>\n",
       "      <td>134.0</td>\n",
       "      <td>1.0</td>\n",
       "    </tr>\n",
       "    <tr>\n",
       "      <th>y_predict[550]</th>\n",
       "      <td>-1.900</td>\n",
       "      <td>0.0370</td>\n",
       "      <td>2.50</td>\n",
       "      <td>-6.10</td>\n",
       "      <td>-2.000</td>\n",
       "      <td>2.2</td>\n",
       "      <td>4685.0</td>\n",
       "      <td>149.0</td>\n",
       "      <td>1.0</td>\n",
       "    </tr>\n",
       "    <tr>\n",
       "      <th>y_predict[551]</th>\n",
       "      <td>-1.900</td>\n",
       "      <td>0.0380</td>\n",
       "      <td>2.50</td>\n",
       "      <td>-6.10</td>\n",
       "      <td>-1.900</td>\n",
       "      <td>2.1</td>\n",
       "      <td>4188.0</td>\n",
       "      <td>133.0</td>\n",
       "      <td>1.0</td>\n",
       "    </tr>\n",
       "  </tbody>\n",
       "</table>\n",
       "<p>1654 rows × 9 columns</p>\n",
       "</div>"
      ],
      "text/plain": [
       "                   Mean    MCSE  StdDev      5%      50%    95%   N_Eff  \\\n",
       "name                                                                      \n",
       "lp__           -280.000  0.4800   17.00 -310.00 -280.000 -250.0  1200.0   \n",
       "f_tilde[1]        0.550  0.0067    0.52   -0.31    0.550    1.4  6011.0   \n",
       "f_tilde[2]        0.300  0.0120    0.82   -1.00    0.300    1.7  4715.0   \n",
       "f_tilde[3]       -0.370  0.0110    0.87   -1.80   -0.370    1.1  6301.0   \n",
       "f_tilde[4]       -0.085  0.0120    1.00   -1.80   -0.087    1.6  7411.0   \n",
       "...                 ...     ...     ...     ...      ...    ...     ...   \n",
       "y_predict[547]   -2.000  0.0350    2.40   -6.00   -2.000    2.1  4801.0   \n",
       "y_predict[548]   -2.000  0.0370    2.50   -6.30   -2.000    2.2  4799.0   \n",
       "y_predict[549]   -1.900  0.0380    2.50   -6.00   -1.900    2.2  4222.0   \n",
       "y_predict[550]   -1.900  0.0370    2.50   -6.10   -2.000    2.2  4685.0   \n",
       "y_predict[551]   -1.900  0.0380    2.50   -6.10   -1.900    2.1  4188.0   \n",
       "\n",
       "                N_Eff/s  R_hat  \n",
       "name                            \n",
       "lp__               39.0    1.0  \n",
       "f_tilde[1]        191.0    1.0  \n",
       "f_tilde[2]        150.0    1.0  \n",
       "f_tilde[3]        200.0    1.0  \n",
       "f_tilde[4]        235.0    1.0  \n",
       "...                 ...    ...  \n",
       "y_predict[547]    152.0    1.0  \n",
       "y_predict[548]    152.0    1.0  \n",
       "y_predict[549]    134.0    1.0  \n",
       "y_predict[550]    149.0    1.0  \n",
       "y_predict[551]    133.0    1.0  \n",
       "\n",
       "[1654 rows x 9 columns]"
      ]
     },
     "execution_count": 65,
     "metadata": {},
     "output_type": "execute_result"
    }
   ],
   "source": [
    "result.summary()"
   ]
  },
  {
   "cell_type": "code",
   "execution_count": 66,
   "id": "9d7bad39",
   "metadata": {},
   "outputs": [
    {
     "name": "stdout",
     "output_type": "stream",
     "text": [
      "551\n",
      "4000\n"
     ]
    }
   ],
   "source": [
    "print(len(result.stan_variable('y_predict')[0,:]))\n",
    "print(len(result.stan_variable('y_predict')[:,0]))"
   ]
  },
  {
   "cell_type": "code",
   "execution_count": 89,
   "id": "9dd6465b",
   "metadata": {},
   "outputs": [
    {
     "data": {
      "image/png": "[encoded data removed]",
      "text/plain": [
       "<Figure size 432x288 with 1 Axes>"
      ]
     },
     "metadata": {
      "needs_background": "light"
     },
     "output_type": "display_data"
    }
   ],
   "source": [
    "med_prob_ppc = np.percentile(result.stan_variable('y_predict'),[5,16,50,84,95],axis=0)\n",
    "plt.plot(x_predict,result.stan_variable('y_predict')[100])\n",
    "plt.plot(x_predict,result.stan_variable('y_predict')[200])\n",
    "plt.plot(x_predict,med_prob_ppc[0])\n",
    "plt.plot(x_predict,med_prob_ppc[1])\n",
    "plt.plot(x_predict,med_prob_ppc[2])\n",
    "plt.plot(x_predict,med_prob_ppc[3])\n",
    "plt.plot(x_predict,med_prob_ppc[4])\n",
    "labels= [\"random_y1\",\"random_y2\", \"5%\", \"16%\", \"50%\", \"84%\", \"95%\"]\n",
    "plt.legend(labels)\n",
    "\n",
    "plt.scatter(x_predict[observed_idx], y_obs, color='black', zorder=5)\n",
    "plt.errorbar(x_predict[observed_idx], med_prob_ppc[2][observed_idx], (med_prob_ppc[2]-med_prob_ppc[1])[observed_idx],fmt='*', color='green')\n",
    "\n",
    "plt.show()"
   ]
  },
  {
   "cell_type": "code",
   "execution_count": 68,
   "id": "ce51676c",
   "metadata": {},
   "outputs": [
    {
     "data": {
      "text/plain": [
       "551"
      ]
     },
     "execution_count": 68,
     "metadata": {},
     "output_type": "execute_result"
    }
   ],
   "source": [
    "len(result.stan_variable('y_predict')[0])"
   ]
  },
  {
   "cell_type": "code",
   "execution_count": 69,
   "id": "1e56cae1",
   "metadata": {},
   "outputs": [
    {
     "data": {
      "text/plain": [
       "551"
      ]
     },
     "execution_count": 69,
     "metadata": {},
     "output_type": "execute_result"
    }
   ],
   "source": [
    "len(med_prob_ppc[2]-med_prob_ppc[1])"
   ]
  },
  {
   "cell_type": "markdown",
   "id": "612ecb18",
   "metadata": {},
   "source": [
    "### Task 2: optimize hyperparameters"
   ]
  },
  {
   "cell_type": "markdown",
   "id": "b6cf4f85",
   "metadata": {},
   "source": [
    "To achive better results of GP fitting for our observed data, we need to oprimize its parameters. We can do that by using maximum marginal likelihood estimation. It can be done by placing parameters in \"parameter\" block in stan model and using \"optimize\" method."
   ]
  },
  {
   "cell_type": "code",
   "execution_count": 70,
   "id": "67c710bb",
   "metadata": {},
   "outputs": [
    {
     "name": "stderr",
     "output_type": "stream",
     "text": [
      "INFO:cmdstanpy:found newer exe file, not recompiling\n"
     ]
    }
   ],
   "source": [
    "model2 = CmdStanModel(stan_file='gaussian_process_optimize.stan')"
   ]
  },
  {
   "cell_type": "code",
   "execution_count": 71,
   "id": "74c105e5",
   "metadata": {},
   "outputs": [],
   "source": [
    "data2=dict(\n",
    "    N_obs=len(x_obs),\n",
    "    x_obs=x_obs,\n",
    "    y_obs=y_obs,\n",
    ")"
   ]
  },
  {
   "cell_type": "code",
   "execution_count": 76,
   "id": "b212b612",
   "metadata": {},
   "outputs": [
    {
     "name": "stderr",
     "output_type": "stream",
     "text": [
      "INFO:cmdstanpy:Chain [1] start processing\n",
      "INFO:cmdstanpy:Chain [1] done processing\n"
     ]
    }
   ],
   "source": [
    "result2 = model2.optimize(data=data2, seed=5838298)\n",
    "optimized_rho=(result2.stan_variable('rho'))\n",
    "optimized_alpha=(result2.stan_variable('alpha'))\n",
    "optimized_sigma=(result2.stan_variable('sigma'))"
   ]
  },
  {
   "cell_type": "code",
   "execution_count": 77,
   "id": "2264c04f",
   "metadata": {},
   "outputs": [],
   "source": [
    "data3=dict(\n",
    "    N_predict=len(x_predict),\n",
    "    x_predict=x_predict,\n",
    "    N_obs=len(y_obs),\n",
    "    y_obs=y_obs,\n",
    "    observed_idx=observed_idx,\n",
    "    rho=optimized_rho,\n",
    "    alpha=optimized_alpha,\n",
    "    sigma=optimized_sigma\n",
    ")"
   ]
  },
  {
   "cell_type": "code",
   "execution_count": 78,
   "id": "71fb3fee",
   "metadata": {},
   "outputs": [
    {
     "name": "stderr",
     "output_type": "stream",
     "text": [
      "INFO:cmdstanpy:CmdStan start procesing\n",
      "chain 1 |\u001b[33m          \u001b[0m| 00:00 Status\n",
      "\u001b[A\n",
      "\n",
      "\u001b[A\u001b[A\n",
      "\n",
      "chain 1 |\u001b[33m▉         \u001b[0m| 00:04 Iteration:    1 / 2000 [  0%]  (Warmup)\n",
      "\u001b[A\n",
      "\n",
      "\u001b[A\u001b[A\n",
      "chain 1 |\u001b[33m█▎        \u001b[0m| 00:09 Iteration:  100 / 2000 [  5%]  (Warmup)\n",
      "\n",
      "\u001b[A\u001b[A\n",
      "chain 1 |\u001b[33m█▊        \u001b[0m| 00:13 Iteration:  200 / 2000 [ 10%]  (Warmup)\n",
      "\n",
      "\u001b[A\u001b[A\n",
      "chain 1 |\u001b[33m██▎       \u001b[0m| 00:17 Iteration:  300 / 2000 [ 15%]  (Warmup)\n",
      "\u001b[A\n",
      "\n",
      "chain 1 |\u001b[33m██▋       \u001b[0m| 00:21 Iteration:  400 / 2000 [ 20%]  (Warmup)\n",
      "\u001b[A\n",
      "\n",
      "chain 1 |\u001b[33m███▏      \u001b[0m| 00:25 Iteration:  500 / 2000 [ 25%]  (Warmup)\n",
      "\u001b[A\n",
      "\n",
      "chain 1 |\u001b[33m███▋      \u001b[0m| 00:28 Iteration:  600 / 2000 [ 30%]  (Warmup)\n",
      "\u001b[A\n",
      "\n",
      "chain 1 |\u001b[33m████      \u001b[0m| 00:31 Iteration:  700 / 2000 [ 35%]  (Warmup)\n",
      "\u001b[A\n",
      "\n",
      "chain 1 |\u001b[33m████▌     \u001b[0m| 00:35 Iteration:  800 / 2000 [ 40%]  (Warmup)\n",
      "chain 1 |\u001b[33m█████     \u001b[0m| 00:38 Iteration:  900 / 2000 [ 45%]  (Warmup)\n",
      "\n",
      "\u001b[A\u001b[A\n",
      "chain 1 |\u001b[34m█████▉    \u001b[0m| 00:43 Iteration: 1001 / 2000 [ 50%]  (Sampling)\n",
      "\n",
      "\u001b[A\u001b[A\n",
      "chain 1 |\u001b[34m██████▎   \u001b[0m| 00:48 Iteration: 1100 / 2000 [ 55%]  (Sampling)\n",
      "\n",
      "\u001b[A\u001b[A\n",
      "chain 1 |\u001b[34m██████▊   \u001b[0m| 00:52 Iteration: 1200 / 2000 [ 60%]  (Sampling)\n",
      "\n",
      "\u001b[A\u001b[A\n",
      "chain 1 |\u001b[34m███████▎  \u001b[0m| 00:57 Iteration: 1300 / 2000 [ 65%]  (Sampling)\n",
      "\n",
      "\u001b[A\u001b[A\n",
      "chain 1 |\u001b[34m███████▋  \u001b[0m| 01:02 Iteration: 1400 / 2000 [ 70%]  (Sampling)\n",
      "\n",
      "\u001b[A\u001b[A\n",
      "chain 1 |\u001b[34m████████▏ \u001b[0m| 01:06 Iteration: 1500 / 2000 [ 75%]  (Sampling)\n",
      "\n",
      "\u001b[A\u001b[A\n",
      "\u001b[A\n",
      "\n",
      "chain 1 |\u001b[34m████████▋ \u001b[0m| 01:11 Iteration: 1600 / 2000 [ 80%]  (Sampling)\n",
      "\u001b[A\n",
      "\n",
      "chain 1 |\u001b[34m█████████ \u001b[0m| 01:16 Iteration: 1700 / 2000 [ 85%]  (Sampling)\n",
      "chain 1 |\u001b[34m█████████▌\u001b[0m| 01:20 Iteration: 1800 / 2000 [ 90%]  (Sampling)\n",
      "\n",
      "\u001b[A\u001b[A\n",
      "chain 1 |\u001b[34m██████████\u001b[0m| 01:23 Iteration: 1900 / 2000 [ 95%]  (Sampling)\n",
      "\n",
      "chain 1 |\u001b[34m██████████\u001b[0m| 01:26 Sampling completed                       \n",
      "chain 2 |\u001b[34m██████████\u001b[0m| 01:26 Sampling completed                       \n",
      "chain 3 |\u001b[34m██████████\u001b[0m| 01:26 Sampling completed                       \n",
      "chain 4 |\u001b[34m██████████\u001b[0m| 01:26 Sampling completed                       "
     ]
    },
    {
     "name": "stdout",
     "output_type": "stream",
     "text": [
      "                                                                                                                                                                                                                                                                                                                                "
     ]
    },
    {
     "name": "stderr",
     "output_type": "stream",
     "text": [
      "\n",
      "INFO:cmdstanpy:CmdStan done processing.\n"
     ]
    },
    {
     "name": "stdout",
     "output_type": "stream",
     "text": [
      "\n"
     ]
    }
   ],
   "source": [
    "result3 = model.sample(data=data3, chains = 4)"
   ]
  },
  {
   "cell_type": "code",
   "execution_count": 82,
   "metadata": {},
   "outputs": [
    {
     "data": {
      "text/html": [
       "<div>\n",
       "<style scoped>\n",
       "    .dataframe tbody tr th:only-of-type {\n",
       "        vertical-align: middle;\n",
       "    }\n",
       "\n",
       "    .dataframe tbody tr th {\n",
       "        vertical-align: top;\n",
       "    }\n",
       "\n",
       "    .dataframe thead th {\n",
       "        text-align: right;\n",
       "    }\n",
       "</style>\n",
       "<table border=\"1\" class=\"dataframe\">\n",
       "  <thead>\n",
       "    <tr style=\"text-align: right;\">\n",
       "      <th></th>\n",
       "      <th>Mean</th>\n",
       "      <th>MCSE</th>\n",
       "      <th>StdDev</th>\n",
       "      <th>5%</th>\n",
       "      <th>50%</th>\n",
       "      <th>95%</th>\n",
       "      <th>N_Eff</th>\n",
       "      <th>N_Eff/s</th>\n",
       "      <th>R_hat</th>\n",
       "    </tr>\n",
       "    <tr>\n",
       "      <th>name</th>\n",
       "      <th></th>\n",
       "      <th></th>\n",
       "      <th></th>\n",
       "      <th></th>\n",
       "      <th></th>\n",
       "      <th></th>\n",
       "      <th></th>\n",
       "      <th></th>\n",
       "      <th></th>\n",
       "    </tr>\n",
       "  </thead>\n",
       "  <tbody>\n",
       "    <tr>\n",
       "      <th>lp__</th>\n",
       "      <td>-280.0000</td>\n",
       "      <td>0.4400</td>\n",
       "      <td>17.00</td>\n",
       "      <td>-310.0</td>\n",
       "      <td>-280.00000</td>\n",
       "      <td>-250.0</td>\n",
       "      <td>1400.0</td>\n",
       "      <td>7.9</td>\n",
       "      <td>1.0</td>\n",
       "    </tr>\n",
       "    <tr>\n",
       "      <th>f_tilde[1]</th>\n",
       "      <td>-0.0820</td>\n",
       "      <td>0.0083</td>\n",
       "      <td>0.73</td>\n",
       "      <td>-1.3</td>\n",
       "      <td>-0.08800</td>\n",
       "      <td>1.1</td>\n",
       "      <td>7574.0</td>\n",
       "      <td>43.0</td>\n",
       "      <td>1.0</td>\n",
       "    </tr>\n",
       "    <tr>\n",
       "      <th>f_tilde[2]</th>\n",
       "      <td>0.0020</td>\n",
       "      <td>0.0090</td>\n",
       "      <td>0.78</td>\n",
       "      <td>-1.3</td>\n",
       "      <td>-0.00034</td>\n",
       "      <td>1.3</td>\n",
       "      <td>7540.0</td>\n",
       "      <td>42.0</td>\n",
       "      <td>1.0</td>\n",
       "    </tr>\n",
       "    <tr>\n",
       "      <th>f_tilde[3]</th>\n",
       "      <td>0.1500</td>\n",
       "      <td>0.0095</td>\n",
       "      <td>0.90</td>\n",
       "      <td>-1.3</td>\n",
       "      <td>0.16000</td>\n",
       "      <td>1.6</td>\n",
       "      <td>9106.0</td>\n",
       "      <td>51.0</td>\n",
       "      <td>1.0</td>\n",
       "    </tr>\n",
       "    <tr>\n",
       "      <th>f_tilde[4]</th>\n",
       "      <td>0.3000</td>\n",
       "      <td>0.0098</td>\n",
       "      <td>0.95</td>\n",
       "      <td>-1.3</td>\n",
       "      <td>0.30000</td>\n",
       "      <td>1.9</td>\n",
       "      <td>9357.0</td>\n",
       "      <td>53.0</td>\n",
       "      <td>1.0</td>\n",
       "    </tr>\n",
       "    <tr>\n",
       "      <th>...</th>\n",
       "      <td>...</td>\n",
       "      <td>...</td>\n",
       "      <td>...</td>\n",
       "      <td>...</td>\n",
       "      <td>...</td>\n",
       "      <td>...</td>\n",
       "      <td>...</td>\n",
       "      <td>...</td>\n",
       "      <td>...</td>\n",
       "    </tr>\n",
       "    <tr>\n",
       "      <th>y_predict[547]</th>\n",
       "      <td>-0.0630</td>\n",
       "      <td>0.0220</td>\n",
       "      <td>2.00</td>\n",
       "      <td>-3.4</td>\n",
       "      <td>-0.08100</td>\n",
       "      <td>3.3</td>\n",
       "      <td>8561.0</td>\n",
       "      <td>48.0</td>\n",
       "      <td>1.0</td>\n",
       "    </tr>\n",
       "    <tr>\n",
       "      <th>y_predict[548]</th>\n",
       "      <td>-0.0480</td>\n",
       "      <td>0.0220</td>\n",
       "      <td>2.10</td>\n",
       "      <td>-3.5</td>\n",
       "      <td>-0.05700</td>\n",
       "      <td>3.4</td>\n",
       "      <td>8744.0</td>\n",
       "      <td>49.0</td>\n",
       "      <td>1.0</td>\n",
       "    </tr>\n",
       "    <tr>\n",
       "      <th>y_predict[549]</th>\n",
       "      <td>-0.0280</td>\n",
       "      <td>0.0230</td>\n",
       "      <td>2.10</td>\n",
       "      <td>-3.6</td>\n",
       "      <td>-0.01900</td>\n",
       "      <td>3.5</td>\n",
       "      <td>8654.0</td>\n",
       "      <td>49.0</td>\n",
       "      <td>1.0</td>\n",
       "    </tr>\n",
       "    <tr>\n",
       "      <th>y_predict[550]</th>\n",
       "      <td>-0.0200</td>\n",
       "      <td>0.0240</td>\n",
       "      <td>2.20</td>\n",
       "      <td>-3.7</td>\n",
       "      <td>-0.01700</td>\n",
       "      <td>3.6</td>\n",
       "      <td>8378.0</td>\n",
       "      <td>47.0</td>\n",
       "      <td>1.0</td>\n",
       "    </tr>\n",
       "    <tr>\n",
       "      <th>y_predict[551]</th>\n",
       "      <td>-0.0087</td>\n",
       "      <td>0.0240</td>\n",
       "      <td>2.30</td>\n",
       "      <td>-3.8</td>\n",
       "      <td>0.00470</td>\n",
       "      <td>3.8</td>\n",
       "      <td>8615.0</td>\n",
       "      <td>48.0</td>\n",
       "      <td>1.0</td>\n",
       "    </tr>\n",
       "  </tbody>\n",
       "</table>\n",
       "<p>1654 rows × 9 columns</p>\n",
       "</div>"
      ],
      "text/plain": [
       "                    Mean    MCSE  StdDev     5%        50%    95%   N_Eff  \\\n",
       "name                                                                        \n",
       "lp__           -280.0000  0.4400   17.00 -310.0 -280.00000 -250.0  1400.0   \n",
       "f_tilde[1]       -0.0820  0.0083    0.73   -1.3   -0.08800    1.1  7574.0   \n",
       "f_tilde[2]        0.0020  0.0090    0.78   -1.3   -0.00034    1.3  7540.0   \n",
       "f_tilde[3]        0.1500  0.0095    0.90   -1.3    0.16000    1.6  9106.0   \n",
       "f_tilde[4]        0.3000  0.0098    0.95   -1.3    0.30000    1.9  9357.0   \n",
       "...                  ...     ...     ...    ...        ...    ...     ...   \n",
       "y_predict[547]   -0.0630  0.0220    2.00   -3.4   -0.08100    3.3  8561.0   \n",
       "y_predict[548]   -0.0480  0.0220    2.10   -3.5   -0.05700    3.4  8744.0   \n",
       "y_predict[549]   -0.0280  0.0230    2.10   -3.6   -0.01900    3.5  8654.0   \n",
       "y_predict[550]   -0.0200  0.0240    2.20   -3.7   -0.01700    3.6  8378.0   \n",
       "y_predict[551]   -0.0087  0.0240    2.30   -3.8    0.00470    3.8  8615.0   \n",
       "\n",
       "                N_Eff/s  R_hat  \n",
       "name                            \n",
       "lp__                7.9    1.0  \n",
       "f_tilde[1]         43.0    1.0  \n",
       "f_tilde[2]         42.0    1.0  \n",
       "f_tilde[3]         51.0    1.0  \n",
       "f_tilde[4]         53.0    1.0  \n",
       "...                 ...    ...  \n",
       "y_predict[547]     48.0    1.0  \n",
       "y_predict[548]     49.0    1.0  \n",
       "y_predict[549]     49.0    1.0  \n",
       "y_predict[550]     47.0    1.0  \n",
       "y_predict[551]     48.0    1.0  \n",
       "\n",
       "[1654 rows x 9 columns]"
      ]
     },
     "execution_count": 82,
     "metadata": {},
     "output_type": "execute_result"
    }
   ],
   "source": [
    "result3.summary()"
   ]
  },
  {
   "cell_type": "markdown",
   "id": "694aedb2",
   "metadata": {},
   "source": [
    "Optimize parameters with mentioned method and generate new samples with model from task 1. Of course use just aquired parameters. Do not forget to specify data variable based on stan model. \n",
    "What can your say about results in comparison to ones from task 1?\n",
    "Did the GP perform well in the task of regression? "
   ]
  },
  {
   "cell_type": "code",
   "execution_count": 92,
   "id": "87d53a6a",
   "metadata": {},
   "outputs": [
    {
     "data": {
      "image/png": "[encoded data removed]",
      "text/plain": [
       "<Figure size 432x288 with 1 Axes>"
      ]
     },
     "metadata": {
      "needs_background": "light"
     },
     "output_type": "display_data"
    }
   ],
   "source": [
    "med_prob_ppc3 = np.percentile(result3.stan_variable('y_predict'),[5,16,50,84,95],axis=0)\n",
    "plt.plot(x_predict,result.stan_variable('y_predict')[100])\n",
    "plt.plot(x_predict,result.stan_variable('y_predict')[200])\n",
    "plt.plot(x_predict,med_prob_ppc3[0])\n",
    "plt.plot(x_predict,med_prob_ppc3[1])\n",
    "plt.plot(x_predict,med_prob_ppc3[2])\n",
    "plt.plot(x_predict,med_prob_ppc3[3])\n",
    "plt.plot(x_predict,med_prob_ppc3[4])\n",
    "labels= [\"random_y1\",\"random_y2\", \"5%\", \"16%\", \"50%\", \"84%\", \"95%\"]\n",
    "plt.legend(labels)\n",
    "plt.scatter(x_predict[observed_idx], y_obs, color='black', zorder=5)\n",
    "plt.errorbar(x_predict[observed_idx], med_prob_ppc3[2][observed_idx], (med_prob_ppc3[2]-med_prob_ppc3[1])[observed_idx],fmt='*', color='green')\n",
    "plt.show()"
   ]
  }
 ],
 "metadata": {
  "interpreter": {
   "hash": "ad2bdc8ecc057115af97d19610ffacc2b4e99fae6737bb82f5d7fb13d2f2c186"
  },
  "kernelspec": {
   "display_name": "Python 3.9.12 ('base')",
   "language": "python",
   "name": "python3"
  },
  "language_info": {
   "codemirror_mode": {
    "name": "ipython",
    "version": 3
   },
   "file_extension": ".py",
   "mimetype": "text/x-python",
   "name": "python",
   "nbconvert_exporter": "python",
   "pygments_lexer": "ipython3",
   "version": "3.9.12"
  }
 },
 "nbformat": 4,
 "nbformat_minor": 5
}
