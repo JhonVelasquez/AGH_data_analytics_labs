{
 "cells": [
  {
   "cell_type": "code",
   "execution_count": 1,
   "metadata": {},
   "outputs": [],
   "source": [
    "from cmdstanpy import CmdStanModel\n",
    "\n",
    "import arviz as az\n",
    "import numpy as np\n",
    "import scipy.stats as stats\n",
    "\n",
    "import pandas as pd\n",
    "\n",
    "import matplotlib.pyplot as plt\n",
    "import matplotlib as mpl"
   ]
  },
  {
   "cell_type": "markdown",
   "metadata": {},
   "source": [
    "Excercise 1 - generate data"
   ]
  },
  {
   "cell_type": "code",
   "execution_count": 2,
   "metadata": {},
   "outputs": [
    {
     "data": {
      "text/plain": [
       "1300"
      ]
     },
     "execution_count": 2,
     "metadata": {},
     "output_type": "execute_result"
    }
   ],
   "source": [
    "F=len('jhon')\n",
    "L=len('velasquez')\n",
    "N=(L+F)*100\n",
    "N"
   ]
  },
  {
   "cell_type": "code",
   "execution_count": 13,
   "metadata": {},
   "outputs": [
    {
     "name": "stderr",
     "output_type": "stream",
     "text": [
      "INFO:cmdstanpy:found newer exe file, not recompiling\n",
      "INFO:cmdstanpy:CmdStan start procesing\n",
      "chain 1 |\u001b[33m          \u001b[0m| 00:00 Status\n",
      "\u001b[A\n",
      "\n",
      "chain 1 |\u001b[34m▉         \u001b[0m| 00:00 Iteration:   1 / 1000 [  0%]  (Sampling)\n",
      "\u001b[A\n",
      "\n",
      "\u001b[A\u001b[A\n",
      "chain 1 |\u001b[34m█▎        \u001b[0m| 00:00 Iteration: 100 / 1000 [ 10%]  (Sampling)\n",
      "\n",
      "\u001b[A\u001b[A\n",
      "chain 1 |\u001b[34m█▊        \u001b[0m| 00:00 Iteration: 200 / 1000 [ 20%]  (Sampling)\n",
      "\n",
      "chain 1 |\u001b[34m██▎       \u001b[0m| 00:00 Iteration: 300 / 1000 [ 30%]  (Sampling)\n",
      "\u001b[A\n",
      "\n",
      "chain 1 |\u001b[34m██▋       \u001b[0m| 00:00 Iteration: 400 / 1000 [ 40%]  (Sampling)\n",
      "\u001b[A\n",
      "\n",
      "chain 1 |\u001b[34m███▏      \u001b[0m| 00:01 Iteration: 500 / 1000 [ 50%]  (Sampling)\n",
      "\u001b[A\n",
      "\n",
      "chain 1 |\u001b[34m███▋      \u001b[0m| 00:01 Iteration: 600 / 1000 [ 60%]  (Sampling)\n",
      "\u001b[A\n",
      "\n",
      "chain 1 |\u001b[34m████      \u001b[0m| 00:01 Iteration: 700 / 1000 [ 70%]  (Sampling)\n",
      "\u001b[A\n",
      "\n",
      "chain 1 |\u001b[34m████▌     \u001b[0m| 00:01 Iteration: 800 / 1000 [ 80%]  (Sampling)\n",
      "\u001b[A\n",
      "\n",
      "chain 1 |\u001b[34m█████     \u001b[0m| 00:01 Iteration: 900 / 1000 [ 90%]  (Sampling)\n",
      "\u001b[A\n",
      "\n",
      "chain 1 |\u001b[34m██████████\u001b[0m| 00:01 Sampling completed                      \n",
      "chain 2 |\u001b[34m██████████\u001b[0m| 00:01 Sampling completed                      \n",
      "chain 3 |\u001b[34m██████████\u001b[0m| 00:01 Sampling completed                      \n",
      "chain 4 |\u001b[34m██████████\u001b[0m| 00:01 Sampling completed                      "
     ]
    },
    {
     "name": "stdout",
     "output_type": "stream",
     "text": [
      "                                                                                                                                                                                                                                                                                                                                "
     ]
    },
    {
     "name": "stderr",
     "output_type": "stream",
     "text": [
      "\n",
      "INFO:cmdstanpy:CmdStan done processing.\n"
     ]
    },
    {
     "name": "stdout",
     "output_type": "stream",
     "text": [
      "\n"
     ]
    }
   ],
   "source": [
    "model_1 = CmdStanModel(stan_file='code_1.stan')\n",
    "data_1=dict(\n",
    "    N=N\n",
    ")\n",
    "result_1 = model_1.sample(data=data_1, chains = 4)"
   ]
  },
  {
   "cell_type": "code",
   "execution_count": 15,
   "metadata": {},
   "outputs": [
    {
     "data": {
      "text/html": [
       "<div>\n",
       "<style scoped>\n",
       "    .dataframe tbody tr th:only-of-type {\n",
       "        vertical-align: middle;\n",
       "    }\n",
       "\n",
       "    .dataframe tbody tr th {\n",
       "        vertical-align: top;\n",
       "    }\n",
       "\n",
       "    .dataframe thead th {\n",
       "        text-align: right;\n",
       "    }\n",
       "</style>\n",
       "<table border=\"1\" class=\"dataframe\">\n",
       "  <thead>\n",
       "    <tr style=\"text-align: right;\">\n",
       "      <th></th>\n",
       "      <th>Mean</th>\n",
       "      <th>MCSE</th>\n",
       "      <th>StdDev</th>\n",
       "      <th>5%</th>\n",
       "      <th>50%</th>\n",
       "      <th>95%</th>\n",
       "      <th>N_Eff</th>\n",
       "      <th>N_Eff/s</th>\n",
       "      <th>R_hat</th>\n",
       "    </tr>\n",
       "    <tr>\n",
       "      <th>name</th>\n",
       "      <th></th>\n",
       "      <th></th>\n",
       "      <th></th>\n",
       "      <th></th>\n",
       "      <th></th>\n",
       "      <th></th>\n",
       "      <th></th>\n",
       "      <th></th>\n",
       "      <th></th>\n",
       "    </tr>\n",
       "  </thead>\n",
       "  <tbody>\n",
       "    <tr>\n",
       "      <th>lp__</th>\n",
       "      <td>0.000</td>\n",
       "      <td>NaN</td>\n",
       "      <td>0.000000e+00</td>\n",
       "      <td>0.00</td>\n",
       "      <td>0.0000</td>\n",
       "      <td>0.00</td>\n",
       "      <td>NaN</td>\n",
       "      <td>NaN</td>\n",
       "      <td>NaN</td>\n",
       "    </tr>\n",
       "    <tr>\n",
       "      <th>theta</th>\n",
       "      <td>0.010</td>\n",
       "      <td>NaN</td>\n",
       "      <td>2.400000e-16</td>\n",
       "      <td>0.01</td>\n",
       "      <td>0.0100</td>\n",
       "      <td>0.01</td>\n",
       "      <td>NaN</td>\n",
       "      <td>NaN</td>\n",
       "      <td>NaN</td>\n",
       "    </tr>\n",
       "    <tr>\n",
       "      <th>y[1]</th>\n",
       "      <td>0.110</td>\n",
       "      <td>0.028</td>\n",
       "      <td>1.800000e+00</td>\n",
       "      <td>-1.60</td>\n",
       "      <td>0.0051</td>\n",
       "      <td>1.70</td>\n",
       "      <td>4044.0</td>\n",
       "      <td>597.0</td>\n",
       "      <td>1.0</td>\n",
       "    </tr>\n",
       "    <tr>\n",
       "      <th>y[2]</th>\n",
       "      <td>0.120</td>\n",
       "      <td>0.028</td>\n",
       "      <td>1.800000e+00</td>\n",
       "      <td>-1.60</td>\n",
       "      <td>0.0055</td>\n",
       "      <td>1.80</td>\n",
       "      <td>4037.0</td>\n",
       "      <td>596.0</td>\n",
       "      <td>1.0</td>\n",
       "    </tr>\n",
       "    <tr>\n",
       "      <th>y[3]</th>\n",
       "      <td>0.120</td>\n",
       "      <td>0.029</td>\n",
       "      <td>1.800000e+00</td>\n",
       "      <td>-1.60</td>\n",
       "      <td>-0.0110</td>\n",
       "      <td>1.70</td>\n",
       "      <td>3996.0</td>\n",
       "      <td>590.0</td>\n",
       "      <td>1.0</td>\n",
       "    </tr>\n",
       "    <tr>\n",
       "      <th>...</th>\n",
       "      <td>...</td>\n",
       "      <td>...</td>\n",
       "      <td>...</td>\n",
       "      <td>...</td>\n",
       "      <td>...</td>\n",
       "      <td>...</td>\n",
       "      <td>...</td>\n",
       "      <td>...</td>\n",
       "      <td>...</td>\n",
       "    </tr>\n",
       "    <tr>\n",
       "      <th>y[1296]</th>\n",
       "      <td>0.130</td>\n",
       "      <td>0.027</td>\n",
       "      <td>1.700000e+00</td>\n",
       "      <td>-1.60</td>\n",
       "      <td>0.0310</td>\n",
       "      <td>1.70</td>\n",
       "      <td>4104.0</td>\n",
       "      <td>606.0</td>\n",
       "      <td>1.0</td>\n",
       "    </tr>\n",
       "    <tr>\n",
       "      <th>y[1297]</th>\n",
       "      <td>0.150</td>\n",
       "      <td>0.033</td>\n",
       "      <td>2.000000e+00</td>\n",
       "      <td>-1.70</td>\n",
       "      <td>0.0140</td>\n",
       "      <td>1.80</td>\n",
       "      <td>3897.0</td>\n",
       "      <td>576.0</td>\n",
       "      <td>1.0</td>\n",
       "    </tr>\n",
       "    <tr>\n",
       "      <th>y[1298]</th>\n",
       "      <td>0.065</td>\n",
       "      <td>0.028</td>\n",
       "      <td>1.700000e+00</td>\n",
       "      <td>-1.60</td>\n",
       "      <td>-0.0170</td>\n",
       "      <td>1.60</td>\n",
       "      <td>3531.0</td>\n",
       "      <td>522.0</td>\n",
       "      <td>1.0</td>\n",
       "    </tr>\n",
       "    <tr>\n",
       "      <th>y[1299]</th>\n",
       "      <td>0.130</td>\n",
       "      <td>0.029</td>\n",
       "      <td>1.800000e+00</td>\n",
       "      <td>-1.70</td>\n",
       "      <td>0.0210</td>\n",
       "      <td>1.70</td>\n",
       "      <td>3981.0</td>\n",
       "      <td>588.0</td>\n",
       "      <td>1.0</td>\n",
       "    </tr>\n",
       "    <tr>\n",
       "      <th>y[1300]</th>\n",
       "      <td>0.094</td>\n",
       "      <td>0.026</td>\n",
       "      <td>1.600000e+00</td>\n",
       "      <td>-1.70</td>\n",
       "      <td>-0.0058</td>\n",
       "      <td>1.80</td>\n",
       "      <td>3568.0</td>\n",
       "      <td>527.0</td>\n",
       "      <td>1.0</td>\n",
       "    </tr>\n",
       "  </tbody>\n",
       "</table>\n",
       "<p>1302 rows × 9 columns</p>\n",
       "</div>"
      ],
      "text/plain": [
       "          Mean   MCSE        StdDev    5%     50%   95%   N_Eff  N_Eff/s  \\\n",
       "name                                                                       \n",
       "lp__     0.000    NaN  0.000000e+00  0.00  0.0000  0.00     NaN      NaN   \n",
       "theta    0.010    NaN  2.400000e-16  0.01  0.0100  0.01     NaN      NaN   \n",
       "y[1]     0.110  0.028  1.800000e+00 -1.60  0.0051  1.70  4044.0    597.0   \n",
       "y[2]     0.120  0.028  1.800000e+00 -1.60  0.0055  1.80  4037.0    596.0   \n",
       "y[3]     0.120  0.029  1.800000e+00 -1.60 -0.0110  1.70  3996.0    590.0   \n",
       "...        ...    ...           ...   ...     ...   ...     ...      ...   \n",
       "y[1296]  0.130  0.027  1.700000e+00 -1.60  0.0310  1.70  4104.0    606.0   \n",
       "y[1297]  0.150  0.033  2.000000e+00 -1.70  0.0140  1.80  3897.0    576.0   \n",
       "y[1298]  0.065  0.028  1.700000e+00 -1.60 -0.0170  1.60  3531.0    522.0   \n",
       "y[1299]  0.130  0.029  1.800000e+00 -1.70  0.0210  1.70  3981.0    588.0   \n",
       "y[1300]  0.094  0.026  1.600000e+00 -1.70 -0.0058  1.80  3568.0    527.0   \n",
       "\n",
       "         R_hat  \n",
       "name            \n",
       "lp__       NaN  \n",
       "theta      NaN  \n",
       "y[1]       1.0  \n",
       "y[2]       1.0  \n",
       "y[3]       1.0  \n",
       "...        ...  \n",
       "y[1296]    1.0  \n",
       "y[1297]    1.0  \n",
       "y[1298]    1.0  \n",
       "y[1299]    1.0  \n",
       "y[1300]    1.0  \n",
       "\n",
       "[1302 rows x 9 columns]"
      ]
     },
     "execution_count": 15,
     "metadata": {},
     "output_type": "execute_result"
    }
   ],
   "source": [
    "result_1.summary()"
   ]
  },
  {
   "cell_type": "code",
   "execution_count": 31,
   "metadata": {},
   "outputs": [
    {
     "data": {
      "image/png": "[encoded data removed]",
      "text/plain": [
       "<Figure size 432x288 with 1 Axes>"
      ]
     },
     "metadata": {
      "needs_background": "light"
     },
     "output_type": "display_data"
    },
    {
     "data": {
      "image/png": "[encoded data removed]",
      "text/plain": [
       "<Figure size 432x288 with 1 Axes>"
      ]
     },
     "metadata": {
      "needs_background": "light"
     },
     "output_type": "display_data"
    }
   ],
   "source": [
    "y1_median=np.percentile(result_1.stan_variable('y')[:,:],50,axis=0)\n",
    "plt.plot(y1_median)\n",
    "plt.show()\n",
    "plt.hist(y1_median,bins=40)\n",
    "plt.show()"
   ]
  },
  {
   "cell_type": "code",
   "execution_count": 14,
   "metadata": {},
   "outputs": [
    {
     "data": {
      "image/png": "[encoded data removed]",
      "text/plain": [
       "<Figure size 432x288 with 1 Axes>"
      ]
     },
     "metadata": {
      "needs_background": "light"
     },
     "output_type": "display_data"
    },
    {
     "data": {
      "image/png": "[encoded data removed]",
      "text/plain": [
       "<Figure size 432x288 with 1 Axes>"
      ]
     },
     "metadata": {
      "needs_background": "light"
     },
     "output_type": "display_data"
    }
   ],
   "source": [
    "plt.plot(result_1.stan_variable('y')[0])\n",
    "plt.show()\n",
    "plt.hist(result_1.stan_variable('y')[0],bins=40)\n",
    "plt.show()"
   ]
  },
  {
   "cell_type": "code",
   "execution_count": 3,
   "metadata": {},
   "outputs": [
    {
     "name": "stderr",
     "output_type": "stream",
     "text": [
      "INFO:cmdstanpy:found newer exe file, not recompiling\n",
      "INFO:cmdstanpy:CmdStan start procesing\n",
      "chain 1 |\u001b[33m          \u001b[0m| 00:00 Status\n",
      "\u001b[A\n",
      "\n",
      "chain 1 |\u001b[34m▉         \u001b[0m| 00:00 Iteration:   1 / 1000 [  0%]  (Sampling)\n",
      "\u001b[A\n",
      "\n",
      "\u001b[A\u001b[A\n",
      "\u001b[A\n",
      "\n",
      "chain 1 |\u001b[34m█▎        \u001b[0m| 00:01 Iteration: 100 / 1000 [ 10%]  (Sampling)\n",
      "chain 1 |\u001b[34m█▊        \u001b[0m| 00:02 Iteration: 200 / 1000 [ 20%]  (Sampling)\n",
      "\n",
      "\u001b[A\u001b[A\n",
      "chain 1 |\u001b[34m██▎       \u001b[0m| 00:02 Iteration: 300 / 1000 [ 30%]  (Sampling)\n",
      "\n",
      "\u001b[A\u001b[A\n",
      "chain 1 |\u001b[34m██▋       \u001b[0m| 00:03 Iteration: 400 / 1000 [ 40%]  (Sampling)\n",
      "\n",
      "\u001b[A\u001b[A\n",
      "chain 1 |\u001b[34m███▏      \u001b[0m| 00:04 Iteration: 500 / 1000 [ 50%]  (Sampling)\n",
      "\n",
      "\u001b[A\u001b[A\n",
      "chain 1 |\u001b[34m███▋      \u001b[0m| 00:04 Iteration: 600 / 1000 [ 60%]  (Sampling)\n",
      "\n",
      "\u001b[A\u001b[A\n",
      "chain 1 |\u001b[34m████      \u001b[0m| 00:05 Iteration: 700 / 1000 [ 70%]  (Sampling)\n",
      "\n",
      "\u001b[A\u001b[A\n",
      "chain 1 |\u001b[34m████▌     \u001b[0m| 00:05 Iteration: 800 / 1000 [ 80%]  (Sampling)\n",
      "\n",
      "\u001b[A\u001b[A\n",
      "chain 1 |\u001b[34m█████     \u001b[0m| 00:06 Iteration: 900 / 1000 [ 90%]  (Sampling)\n",
      "\n",
      "chain 1 |\u001b[34m██████████\u001b[0m| 00:06 Sampling completed                      \n",
      "chain 2 |\u001b[34m██████████\u001b[0m| 00:06 Sampling completed                      \n",
      "chain 3 |\u001b[34m██████████\u001b[0m| 00:06 Sampling completed                      \n",
      "chain 4 |\u001b[34m██████████\u001b[0m| 00:06 Sampling completed                      "
     ]
    },
    {
     "name": "stdout",
     "output_type": "stream",
     "text": [
      "                                                                                                                                                                                                                                                                                                                                "
     ]
    },
    {
     "name": "stderr",
     "output_type": "stream",
     "text": [
      "\n",
      "INFO:cmdstanpy:CmdStan done processing.\n"
     ]
    },
    {
     "name": "stdout",
     "output_type": "stream",
     "text": [
      "\n"
     ]
    }
   ],
   "source": [
    "model_2 = CmdStanModel(stan_file='code_2.stan')\n",
    "data_2=dict(\n",
    "    N=N\n",
    ")\n",
    "result_2 = model_2.sample(data=data_2, chains = 4)"
   ]
  },
  {
   "cell_type": "code",
   "execution_count": 7,
   "metadata": {},
   "outputs": [
    {
     "data": {
      "text/html": [
       "<div>\n",
       "<style scoped>\n",
       "    .dataframe tbody tr th:only-of-type {\n",
       "        vertical-align: middle;\n",
       "    }\n",
       "\n",
       "    .dataframe tbody tr th {\n",
       "        vertical-align: top;\n",
       "    }\n",
       "\n",
       "    .dataframe thead th {\n",
       "        text-align: right;\n",
       "    }\n",
       "</style>\n",
       "<table border=\"1\" class=\"dataframe\">\n",
       "  <thead>\n",
       "    <tr style=\"text-align: right;\">\n",
       "      <th></th>\n",
       "      <th>Mean</th>\n",
       "      <th>MCSE</th>\n",
       "      <th>StdDev</th>\n",
       "      <th>5%</th>\n",
       "      <th>50%</th>\n",
       "      <th>95%</th>\n",
       "      <th>N_Eff</th>\n",
       "      <th>N_Eff/s</th>\n",
       "      <th>R_hat</th>\n",
       "    </tr>\n",
       "    <tr>\n",
       "      <th>name</th>\n",
       "      <th></th>\n",
       "      <th></th>\n",
       "      <th></th>\n",
       "      <th></th>\n",
       "      <th></th>\n",
       "      <th></th>\n",
       "      <th></th>\n",
       "      <th></th>\n",
       "      <th></th>\n",
       "    </tr>\n",
       "  </thead>\n",
       "  <tbody>\n",
       "    <tr>\n",
       "      <th>lp__</th>\n",
       "      <td>0.00000</td>\n",
       "      <td>NaN</td>\n",
       "      <td>0.00</td>\n",
       "      <td>0.0</td>\n",
       "      <td>0.0000</td>\n",
       "      <td>0.0</td>\n",
       "      <td>NaN</td>\n",
       "      <td>NaN</td>\n",
       "      <td>NaN</td>\n",
       "    </tr>\n",
       "    <tr>\n",
       "      <th>X[1,1]</th>\n",
       "      <td>-0.00630</td>\n",
       "      <td>0.016</td>\n",
       "      <td>1.00</td>\n",
       "      <td>-1.6</td>\n",
       "      <td>0.0130</td>\n",
       "      <td>1.6</td>\n",
       "      <td>3815.0</td>\n",
       "      <td>145.0</td>\n",
       "      <td>1.0</td>\n",
       "    </tr>\n",
       "    <tr>\n",
       "      <th>X[1,2]</th>\n",
       "      <td>0.00920</td>\n",
       "      <td>0.016</td>\n",
       "      <td>1.00</td>\n",
       "      <td>-1.7</td>\n",
       "      <td>0.0049</td>\n",
       "      <td>1.7</td>\n",
       "      <td>3882.0</td>\n",
       "      <td>148.0</td>\n",
       "      <td>1.0</td>\n",
       "    </tr>\n",
       "    <tr>\n",
       "      <th>X[1,3]</th>\n",
       "      <td>0.00320</td>\n",
       "      <td>0.015</td>\n",
       "      <td>0.99</td>\n",
       "      <td>-1.6</td>\n",
       "      <td>-0.0100</td>\n",
       "      <td>1.6</td>\n",
       "      <td>4106.0</td>\n",
       "      <td>156.0</td>\n",
       "      <td>1.0</td>\n",
       "    </tr>\n",
       "    <tr>\n",
       "      <th>X[2,1]</th>\n",
       "      <td>0.00930</td>\n",
       "      <td>0.016</td>\n",
       "      <td>1.00</td>\n",
       "      <td>-1.7</td>\n",
       "      <td>0.0110</td>\n",
       "      <td>1.7</td>\n",
       "      <td>4017.0</td>\n",
       "      <td>153.0</td>\n",
       "      <td>1.0</td>\n",
       "    </tr>\n",
       "    <tr>\n",
       "      <th>...</th>\n",
       "      <td>...</td>\n",
       "      <td>...</td>\n",
       "      <td>...</td>\n",
       "      <td>...</td>\n",
       "      <td>...</td>\n",
       "      <td>...</td>\n",
       "      <td>...</td>\n",
       "      <td>...</td>\n",
       "      <td>...</td>\n",
       "    </tr>\n",
       "    <tr>\n",
       "      <th>y[1296]</th>\n",
       "      <td>-0.04400</td>\n",
       "      <td>0.040</td>\n",
       "      <td>2.60</td>\n",
       "      <td>-4.3</td>\n",
       "      <td>-0.0500</td>\n",
       "      <td>4.1</td>\n",
       "      <td>4062.0</td>\n",
       "      <td>155.0</td>\n",
       "      <td>1.0</td>\n",
       "    </tr>\n",
       "    <tr>\n",
       "      <th>y[1297]</th>\n",
       "      <td>-0.06900</td>\n",
       "      <td>0.039</td>\n",
       "      <td>2.40</td>\n",
       "      <td>-4.1</td>\n",
       "      <td>-0.0650</td>\n",
       "      <td>4.0</td>\n",
       "      <td>3994.0</td>\n",
       "      <td>152.0</td>\n",
       "      <td>1.0</td>\n",
       "    </tr>\n",
       "    <tr>\n",
       "      <th>y[1298]</th>\n",
       "      <td>-0.02300</td>\n",
       "      <td>0.040</td>\n",
       "      <td>2.50</td>\n",
       "      <td>-4.1</td>\n",
       "      <td>-0.0730</td>\n",
       "      <td>4.1</td>\n",
       "      <td>4012.0</td>\n",
       "      <td>153.0</td>\n",
       "      <td>1.0</td>\n",
       "    </tr>\n",
       "    <tr>\n",
       "      <th>y[1299]</th>\n",
       "      <td>0.08400</td>\n",
       "      <td>0.042</td>\n",
       "      <td>2.50</td>\n",
       "      <td>-4.1</td>\n",
       "      <td>0.1400</td>\n",
       "      <td>4.2</td>\n",
       "      <td>3584.0</td>\n",
       "      <td>136.0</td>\n",
       "      <td>1.0</td>\n",
       "    </tr>\n",
       "    <tr>\n",
       "      <th>y[1300]</th>\n",
       "      <td>0.00009</td>\n",
       "      <td>0.038</td>\n",
       "      <td>2.50</td>\n",
       "      <td>-4.1</td>\n",
       "      <td>0.0150</td>\n",
       "      <td>4.1</td>\n",
       "      <td>4301.0</td>\n",
       "      <td>164.0</td>\n",
       "      <td>1.0</td>\n",
       "    </tr>\n",
       "  </tbody>\n",
       "</table>\n",
       "<p>5204 rows × 9 columns</p>\n",
       "</div>"
      ],
      "text/plain": [
       "            Mean   MCSE  StdDev   5%     50%  95%   N_Eff  N_Eff/s  R_hat\n",
       "name                                                                     \n",
       "lp__     0.00000    NaN    0.00  0.0  0.0000  0.0     NaN      NaN    NaN\n",
       "X[1,1]  -0.00630  0.016    1.00 -1.6  0.0130  1.6  3815.0    145.0    1.0\n",
       "X[1,2]   0.00920  0.016    1.00 -1.7  0.0049  1.7  3882.0    148.0    1.0\n",
       "X[1,3]   0.00320  0.015    0.99 -1.6 -0.0100  1.6  4106.0    156.0    1.0\n",
       "X[2,1]   0.00930  0.016    1.00 -1.7  0.0110  1.7  4017.0    153.0    1.0\n",
       "...          ...    ...     ...  ...     ...  ...     ...      ...    ...\n",
       "y[1296] -0.04400  0.040    2.60 -4.3 -0.0500  4.1  4062.0    155.0    1.0\n",
       "y[1297] -0.06900  0.039    2.40 -4.1 -0.0650  4.0  3994.0    152.0    1.0\n",
       "y[1298] -0.02300  0.040    2.50 -4.1 -0.0730  4.1  4012.0    153.0    1.0\n",
       "y[1299]  0.08400  0.042    2.50 -4.1  0.1400  4.2  3584.0    136.0    1.0\n",
       "y[1300]  0.00009  0.038    2.50 -4.1  0.0150  4.1  4301.0    164.0    1.0\n",
       "\n",
       "[5204 rows x 9 columns]"
      ]
     },
     "execution_count": 7,
     "metadata": {},
     "output_type": "execute_result"
    }
   ],
   "source": [
    "result_2.summary()"
   ]
  },
  {
   "cell_type": "code",
   "execution_count": 32,
   "metadata": {},
   "outputs": [
    {
     "data": {
      "image/png": "[encoded data removed]",
      "text/plain": [
       "<Figure size 432x288 with 1 Axes>"
      ]
     },
     "metadata": {
      "needs_background": "light"
     },
     "output_type": "display_data"
    },
    {
     "data": {
      "image/png": "[encoded data removed]",
      "text/plain": [
       "<Figure size 432x288 with 1 Axes>"
      ]
     },
     "metadata": {
      "needs_background": "light"
     },
     "output_type": "display_data"
    }
   ],
   "source": [
    "y2_median=np.percentile(result_2.stan_variable('y')[:,:],50,axis=0)\n",
    "plt.plot(y2_median)\n",
    "plt.show()\n",
    "plt.hist(y2_median,bins=40)\n",
    "plt.show()"
   ]
  },
  {
   "cell_type": "code",
   "execution_count": 33,
   "metadata": {},
   "outputs": [
    {
     "data": {
      "image/png": "[encoded data removed]",
      "text/plain": [
       "<Figure size 432x288 with 1 Axes>"
      ]
     },
     "metadata": {
      "needs_background": "light"
     },
     "output_type": "display_data"
    },
    {
     "data": {
      "image/png": "[encoded data removed]",
      "text/plain": [
       "<Figure size 432x288 with 1 Axes>"
      ]
     },
     "metadata": {
      "needs_background": "light"
     },
     "output_type": "display_data"
    }
   ],
   "source": [
    "plt.plot(result_2.stan_variable('y')[100])\n",
    "plt.show()\n",
    "plt.hist(result_2.stan_variable('y')[100],bins=40)\n",
    "plt.show()"
   ]
  },
  {
   "cell_type": "markdown",
   "metadata": {},
   "source": [
    "Excercise 2 - compare normal and student models for data from first file\n"
   ]
  },
  {
   "cell_type": "markdown",
   "metadata": {},
   "source": [
    "2.1 Compile both models\n"
   ]
  },
  {
   "cell_type": "code",
   "execution_count": 35,
   "metadata": {},
   "outputs": [
    {
     "name": "stderr",
     "output_type": "stream",
     "text": [
      "INFO:cmdstanpy:found newer exe file, not recompiling\n"
     ]
    }
   ],
   "source": [
    "model_3 = CmdStanModel(stan_file='code_3.stan')\n",
    "data_3_1=dict(\n",
    "    N=len(y1_median),\n",
    "    y=y1_median,\n",
    ")\n",
    "data_3_2=dict(\n",
    "    N=len(y2_median),\n",
    "    y=y2_median,\n",
    ")"
   ]
  },
  {
   "cell_type": "code",
   "execution_count": 38,
   "metadata": {},
   "outputs": [
    {
     "name": "stderr",
     "output_type": "stream",
     "text": [
      "INFO:cmdstanpy:compiling stan file E:\\AGH\\2022-1\\2_Data_Analytics\\lab7\\code_4.stan to exe file E:\\AGH\\2022-1\\2_Data_Analytics\\lab7\\code_4.exe\n",
      "INFO:cmdstanpy:compiled model executable: E:\\AGH\\2022-1\\2_Data_Analytics\\lab7\\code_4.exe\n"
     ]
    }
   ],
   "source": [
    "model_4 = CmdStanModel(stan_file='code_4.stan')\n",
    "data_4_1=dict(\n",
    "    N=len(y1_median),\n",
    "    y=y1_median,\n",
    ")\n",
    "data_4_2=dict(\n",
    "    N=len(y2_median),\n",
    "    y=y2_median,\n",
    ")"
   ]
  },
  {
   "cell_type": "markdown",
   "metadata": {},
   "source": [
    "2.2 Fit both models"
   ]
  },
  {
   "cell_type": "code",
   "execution_count": 36,
   "metadata": {},
   "outputs": [
    {
     "name": "stderr",
     "output_type": "stream",
     "text": [
      "INFO:cmdstanpy:CmdStan start procesing\n",
      "chain 1 |\u001b[33m          \u001b[0m| 00:00 Status\n",
      "\u001b[A\n",
      "\n",
      "chain 1 |\u001b[33m█▎        \u001b[0m| 00:00 Iteration:  100 / 2000 [  5%]  (Warmup)\n",
      "\u001b[A\n",
      "\n",
      "chain 1 |\u001b[34m█████▉    \u001b[0m| 00:00 Iteration: 1001 / 2000 [ 50%]  (Sampling)\n",
      "\n",
      "\u001b[A\u001b[A\n",
      "chain 1 |\u001b[34m███████▎  \u001b[0m| 00:01 Iteration: 1300 / 2000 [ 65%]  (Sampling)\n",
      "\n",
      "\u001b[A\u001b[A\n",
      "chain 1 |\u001b[34m████████▏ \u001b[0m| 00:02 Iteration: 1500 / 2000 [ 75%]  (Sampling)\n",
      "\n",
      "\u001b[A\u001b[A\n",
      "chain 1 |\u001b[34m█████████▌\u001b[0m| 00:02 Iteration: 1800 / 2000 [ 90%]  (Sampling)\n",
      "\n",
      "\u001b[A\u001b[A\n",
      "\u001b[A\n",
      "\n",
      "chain 1 |\u001b[34m██████████\u001b[0m| 00:03 Iteration: 1900 / 2000 [ 95%]  (Sampling)\n",
      "chain 1 |\u001b[34m██████████\u001b[0m| 00:03 Sampling completed                       \n",
      "chain 2 |\u001b[34m██████████\u001b[0m| 00:03 Sampling completed                       \n",
      "chain 3 |\u001b[34m██████████\u001b[0m| 00:03 Sampling completed                       \n",
      "chain 4 |\u001b[34m██████████\u001b[0m| 00:03 Sampling completed                       "
     ]
    },
    {
     "name": "stdout",
     "output_type": "stream",
     "text": [
      "                                                                                                                                                                                                                                                                                                                                "
     ]
    },
    {
     "name": "stderr",
     "output_type": "stream",
     "text": [
      "\n",
      "INFO:cmdstanpy:CmdStan done processing.\n"
     ]
    },
    {
     "name": "stdout",
     "output_type": "stream",
     "text": [
      "\n"
     ]
    },
    {
     "data": {
      "text/html": [
       "<div>\n",
       "<style scoped>\n",
       "    .dataframe tbody tr th:only-of-type {\n",
       "        vertical-align: middle;\n",
       "    }\n",
       "\n",
       "    .dataframe tbody tr th {\n",
       "        vertical-align: top;\n",
       "    }\n",
       "\n",
       "    .dataframe thead th {\n",
       "        text-align: right;\n",
       "    }\n",
       "</style>\n",
       "<table border=\"1\" class=\"dataframe\">\n",
       "  <thead>\n",
       "    <tr style=\"text-align: right;\">\n",
       "      <th></th>\n",
       "      <th>Mean</th>\n",
       "      <th>MCSE</th>\n",
       "      <th>StdDev</th>\n",
       "      <th>5%</th>\n",
       "      <th>50%</th>\n",
       "      <th>95%</th>\n",
       "      <th>N_Eff</th>\n",
       "      <th>N_Eff/s</th>\n",
       "      <th>R_hat</th>\n",
       "    </tr>\n",
       "    <tr>\n",
       "      <th>name</th>\n",
       "      <th></th>\n",
       "      <th></th>\n",
       "      <th></th>\n",
       "      <th></th>\n",
       "      <th></th>\n",
       "      <th></th>\n",
       "      <th></th>\n",
       "      <th></th>\n",
       "      <th></th>\n",
       "    </tr>\n",
       "  </thead>\n",
       "  <tbody>\n",
       "    <tr>\n",
       "      <th>lp__</th>\n",
       "      <td>3300.0000</td>\n",
       "      <td>0.030000</td>\n",
       "      <td>1.00000</td>\n",
       "      <td>3300.0000</td>\n",
       "      <td>3300.0000</td>\n",
       "      <td>3300.0000</td>\n",
       "      <td>1200.0</td>\n",
       "      <td>92.0</td>\n",
       "      <td>1.0</td>\n",
       "    </tr>\n",
       "    <tr>\n",
       "      <th>sigma</th>\n",
       "      <td>0.0200</td>\n",
       "      <td>0.000015</td>\n",
       "      <td>0.00040</td>\n",
       "      <td>0.0190</td>\n",
       "      <td>0.0200</td>\n",
       "      <td>0.0200</td>\n",
       "      <td>700.0</td>\n",
       "      <td>56.0</td>\n",
       "      <td>1.0</td>\n",
       "    </tr>\n",
       "    <tr>\n",
       "      <th>mu</th>\n",
       "      <td>0.0083</td>\n",
       "      <td>0.000009</td>\n",
       "      <td>0.00056</td>\n",
       "      <td>0.0074</td>\n",
       "      <td>0.0084</td>\n",
       "      <td>0.0092</td>\n",
       "      <td>4000.0</td>\n",
       "      <td>320.0</td>\n",
       "      <td>1.0</td>\n",
       "    </tr>\n",
       "    <tr>\n",
       "      <th>log_lik[1]</th>\n",
       "      <td>3.0000</td>\n",
       "      <td>0.000750</td>\n",
       "      <td>0.02000</td>\n",
       "      <td>3.0000</td>\n",
       "      <td>3.0000</td>\n",
       "      <td>3.0000</td>\n",
       "      <td>726.0</td>\n",
       "      <td>58.0</td>\n",
       "      <td>1.0</td>\n",
       "    </tr>\n",
       "    <tr>\n",
       "      <th>log_lik[2]</th>\n",
       "      <td>3.0000</td>\n",
       "      <td>0.000760</td>\n",
       "      <td>0.02000</td>\n",
       "      <td>3.0000</td>\n",
       "      <td>3.0000</td>\n",
       "      <td>3.0000</td>\n",
       "      <td>714.0</td>\n",
       "      <td>57.0</td>\n",
       "      <td>1.0</td>\n",
       "    </tr>\n",
       "    <tr>\n",
       "      <th>...</th>\n",
       "      <td>...</td>\n",
       "      <td>...</td>\n",
       "      <td>...</td>\n",
       "      <td>...</td>\n",
       "      <td>...</td>\n",
       "      <td>...</td>\n",
       "      <td>...</td>\n",
       "      <td>...</td>\n",
       "      <td>...</td>\n",
       "    </tr>\n",
       "    <tr>\n",
       "      <th>y_hat[1296]</th>\n",
       "      <td>0.0088</td>\n",
       "      <td>0.000300</td>\n",
       "      <td>0.01900</td>\n",
       "      <td>-0.0230</td>\n",
       "      <td>0.0085</td>\n",
       "      <td>0.0420</td>\n",
       "      <td>4200.0</td>\n",
       "      <td>335.0</td>\n",
       "      <td>1.0</td>\n",
       "    </tr>\n",
       "    <tr>\n",
       "      <th>y_hat[1297]</th>\n",
       "      <td>0.0087</td>\n",
       "      <td>0.000320</td>\n",
       "      <td>0.02000</td>\n",
       "      <td>-0.0230</td>\n",
       "      <td>0.0083</td>\n",
       "      <td>0.0410</td>\n",
       "      <td>3852.0</td>\n",
       "      <td>307.0</td>\n",
       "      <td>1.0</td>\n",
       "    </tr>\n",
       "    <tr>\n",
       "      <th>y_hat[1298]</th>\n",
       "      <td>0.0080</td>\n",
       "      <td>0.000320</td>\n",
       "      <td>0.02000</td>\n",
       "      <td>-0.0250</td>\n",
       "      <td>0.0080</td>\n",
       "      <td>0.0400</td>\n",
       "      <td>3804.0</td>\n",
       "      <td>304.0</td>\n",
       "      <td>1.0</td>\n",
       "    </tr>\n",
       "    <tr>\n",
       "      <th>y_hat[1299]</th>\n",
       "      <td>0.0087</td>\n",
       "      <td>0.000310</td>\n",
       "      <td>0.02000</td>\n",
       "      <td>-0.0230</td>\n",
       "      <td>0.0087</td>\n",
       "      <td>0.0410</td>\n",
       "      <td>3989.0</td>\n",
       "      <td>318.0</td>\n",
       "      <td>1.0</td>\n",
       "    </tr>\n",
       "    <tr>\n",
       "      <th>y_hat[1300]</th>\n",
       "      <td>0.0086</td>\n",
       "      <td>0.000310</td>\n",
       "      <td>0.02000</td>\n",
       "      <td>-0.0230</td>\n",
       "      <td>0.0086</td>\n",
       "      <td>0.0400</td>\n",
       "      <td>4064.0</td>\n",
       "      <td>324.0</td>\n",
       "      <td>1.0</td>\n",
       "    </tr>\n",
       "  </tbody>\n",
       "</table>\n",
       "<p>2603 rows × 9 columns</p>\n",
       "</div>"
      ],
      "text/plain": [
       "                  Mean      MCSE   StdDev         5%        50%        95%  \\\n",
       "name                                                                         \n",
       "lp__         3300.0000  0.030000  1.00000  3300.0000  3300.0000  3300.0000   \n",
       "sigma           0.0200  0.000015  0.00040     0.0190     0.0200     0.0200   \n",
       "mu              0.0083  0.000009  0.00056     0.0074     0.0084     0.0092   \n",
       "log_lik[1]      3.0000  0.000750  0.02000     3.0000     3.0000     3.0000   \n",
       "log_lik[2]      3.0000  0.000760  0.02000     3.0000     3.0000     3.0000   \n",
       "...                ...       ...      ...        ...        ...        ...   \n",
       "y_hat[1296]     0.0088  0.000300  0.01900    -0.0230     0.0085     0.0420   \n",
       "y_hat[1297]     0.0087  0.000320  0.02000    -0.0230     0.0083     0.0410   \n",
       "y_hat[1298]     0.0080  0.000320  0.02000    -0.0250     0.0080     0.0400   \n",
       "y_hat[1299]     0.0087  0.000310  0.02000    -0.0230     0.0087     0.0410   \n",
       "y_hat[1300]     0.0086  0.000310  0.02000    -0.0230     0.0086     0.0400   \n",
       "\n",
       "              N_Eff  N_Eff/s  R_hat  \n",
       "name                                 \n",
       "lp__         1200.0     92.0    1.0  \n",
       "sigma         700.0     56.0    1.0  \n",
       "mu           4000.0    320.0    1.0  \n",
       "log_lik[1]    726.0     58.0    1.0  \n",
       "log_lik[2]    714.0     57.0    1.0  \n",
       "...             ...      ...    ...  \n",
       "y_hat[1296]  4200.0    335.0    1.0  \n",
       "y_hat[1297]  3852.0    307.0    1.0  \n",
       "y_hat[1298]  3804.0    304.0    1.0  \n",
       "y_hat[1299]  3989.0    318.0    1.0  \n",
       "y_hat[1300]  4064.0    324.0    1.0  \n",
       "\n",
       "[2603 rows x 9 columns]"
      ]
     },
     "execution_count": 36,
     "metadata": {},
     "output_type": "execute_result"
    }
   ],
   "source": [
    "result_3_1 = model_3.sample(data=data_3_1, chains = 4)\n",
    "result_3_1.summary()"
   ]
  },
  {
   "cell_type": "code",
   "execution_count": 37,
   "metadata": {},
   "outputs": [
    {
     "name": "stderr",
     "output_type": "stream",
     "text": [
      "INFO:cmdstanpy:CmdStan start procesing\n",
      "chain 1 |\u001b[33m          \u001b[0m| 00:00 Status\n",
      "\u001b[A\n",
      "\n",
      "chain 1 |\u001b[33m███▋      \u001b[0m| 00:00 Iteration:  600 / 2000 [ 30%]  (Warmup)\n",
      "\u001b[A\n",
      "\n",
      "chain 1 |\u001b[34m█████████ \u001b[0m| 00:02 Iteration: 1700 / 2000 [ 85%]  (Sampling)\n",
      "\u001b[A\n",
      "\n",
      "chain 1 |\u001b[34m██████████\u001b[0m| 00:03 Sampling completed                       \n",
      "chain 2 |\u001b[34m██████████\u001b[0m| 00:03 Sampling completed                       \n",
      "chain 3 |\u001b[34m██████████\u001b[0m| 00:03 Sampling completed                       \n",
      "chain 4 |\u001b[34m██████████\u001b[0m| 00:03 Sampling completed                       "
     ]
    },
    {
     "name": "stdout",
     "output_type": "stream",
     "text": [
      "                                                                                                                                                                                                                                                                                                                                "
     ]
    },
    {
     "name": "stderr",
     "output_type": "stream",
     "text": [
      "\n",
      "INFO:cmdstanpy:CmdStan done processing.\n"
     ]
    },
    {
     "name": "stdout",
     "output_type": "stream",
     "text": [
      "\n"
     ]
    },
    {
     "data": {
      "text/html": [
       "<div>\n",
       "<style scoped>\n",
       "    .dataframe tbody tr th:only-of-type {\n",
       "        vertical-align: middle;\n",
       "    }\n",
       "\n",
       "    .dataframe tbody tr th {\n",
       "        vertical-align: top;\n",
       "    }\n",
       "\n",
       "    .dataframe thead th {\n",
       "        text-align: right;\n",
       "    }\n",
       "</style>\n",
       "<table border=\"1\" class=\"dataframe\">\n",
       "  <thead>\n",
       "    <tr style=\"text-align: right;\">\n",
       "      <th></th>\n",
       "      <th>Mean</th>\n",
       "      <th>MCSE</th>\n",
       "      <th>StdDev</th>\n",
       "      <th>5%</th>\n",
       "      <th>50%</th>\n",
       "      <th>95%</th>\n",
       "      <th>N_Eff</th>\n",
       "      <th>N_Eff/s</th>\n",
       "      <th>R_hat</th>\n",
       "    </tr>\n",
       "    <tr>\n",
       "      <th>name</th>\n",
       "      <th></th>\n",
       "      <th></th>\n",
       "      <th></th>\n",
       "      <th></th>\n",
       "      <th></th>\n",
       "      <th></th>\n",
       "      <th></th>\n",
       "      <th></th>\n",
       "      <th></th>\n",
       "    </tr>\n",
       "  </thead>\n",
       "  <tbody>\n",
       "    <tr>\n",
       "      <th>lp__</th>\n",
       "      <td>2000.000000</td>\n",
       "      <td>0.027000</td>\n",
       "      <td>0.9900</td>\n",
       "      <td>2000.000</td>\n",
       "      <td>2000.00000</td>\n",
       "      <td>2000.0000</td>\n",
       "      <td>1300.0</td>\n",
       "      <td>110.0</td>\n",
       "      <td>1.0</td>\n",
       "    </tr>\n",
       "    <tr>\n",
       "      <th>sigma</th>\n",
       "      <td>0.050000</td>\n",
       "      <td>0.000032</td>\n",
       "      <td>0.0010</td>\n",
       "      <td>0.049</td>\n",
       "      <td>0.05000</td>\n",
       "      <td>0.0520</td>\n",
       "      <td>1000.0</td>\n",
       "      <td>79.0</td>\n",
       "      <td>1.0</td>\n",
       "    </tr>\n",
       "    <tr>\n",
       "      <th>mu</th>\n",
       "      <td>-0.000640</td>\n",
       "      <td>0.000021</td>\n",
       "      <td>0.0014</td>\n",
       "      <td>-0.003</td>\n",
       "      <td>-0.00065</td>\n",
       "      <td>0.0016</td>\n",
       "      <td>4400.0</td>\n",
       "      <td>350.0</td>\n",
       "      <td>1.0</td>\n",
       "    </tr>\n",
       "    <tr>\n",
       "      <th>log_lik[1]</th>\n",
       "      <td>1.900000</td>\n",
       "      <td>0.000510</td>\n",
       "      <td>0.0200</td>\n",
       "      <td>1.900</td>\n",
       "      <td>1.90000</td>\n",
       "      <td>2.0000</td>\n",
       "      <td>1593.0</td>\n",
       "      <td>127.0</td>\n",
       "      <td>1.0</td>\n",
       "    </tr>\n",
       "    <tr>\n",
       "      <th>log_lik[2]</th>\n",
       "      <td>2.000000</td>\n",
       "      <td>0.000570</td>\n",
       "      <td>0.0200</td>\n",
       "      <td>1.900</td>\n",
       "      <td>2.00000</td>\n",
       "      <td>2.0000</td>\n",
       "      <td>1242.0</td>\n",
       "      <td>99.0</td>\n",
       "      <td>1.0</td>\n",
       "    </tr>\n",
       "    <tr>\n",
       "      <th>...</th>\n",
       "      <td>...</td>\n",
       "      <td>...</td>\n",
       "      <td>...</td>\n",
       "      <td>...</td>\n",
       "      <td>...</td>\n",
       "      <td>...</td>\n",
       "      <td>...</td>\n",
       "      <td>...</td>\n",
       "      <td>...</td>\n",
       "    </tr>\n",
       "    <tr>\n",
       "      <th>y_hat[1296]</th>\n",
       "      <td>0.001000</td>\n",
       "      <td>0.000800</td>\n",
       "      <td>0.0510</td>\n",
       "      <td>-0.083</td>\n",
       "      <td>0.00091</td>\n",
       "      <td>0.0850</td>\n",
       "      <td>4065.0</td>\n",
       "      <td>323.0</td>\n",
       "      <td>1.0</td>\n",
       "    </tr>\n",
       "    <tr>\n",
       "      <th>y_hat[1297]</th>\n",
       "      <td>-0.001400</td>\n",
       "      <td>0.000810</td>\n",
       "      <td>0.0510</td>\n",
       "      <td>-0.086</td>\n",
       "      <td>-0.00069</td>\n",
       "      <td>0.0820</td>\n",
       "      <td>4068.0</td>\n",
       "      <td>323.0</td>\n",
       "      <td>1.0</td>\n",
       "    </tr>\n",
       "    <tr>\n",
       "      <th>y_hat[1298]</th>\n",
       "      <td>-0.000930</td>\n",
       "      <td>0.000790</td>\n",
       "      <td>0.0510</td>\n",
       "      <td>-0.085</td>\n",
       "      <td>-0.00086</td>\n",
       "      <td>0.0820</td>\n",
       "      <td>4135.0</td>\n",
       "      <td>329.0</td>\n",
       "      <td>1.0</td>\n",
       "    </tr>\n",
       "    <tr>\n",
       "      <th>y_hat[1299]</th>\n",
       "      <td>0.000053</td>\n",
       "      <td>0.000790</td>\n",
       "      <td>0.0500</td>\n",
       "      <td>-0.082</td>\n",
       "      <td>-0.00096</td>\n",
       "      <td>0.0830</td>\n",
       "      <td>4030.0</td>\n",
       "      <td>320.0</td>\n",
       "      <td>1.0</td>\n",
       "    </tr>\n",
       "    <tr>\n",
       "      <th>y_hat[1300]</th>\n",
       "      <td>-0.001200</td>\n",
       "      <td>0.000810</td>\n",
       "      <td>0.0510</td>\n",
       "      <td>-0.084</td>\n",
       "      <td>-0.00079</td>\n",
       "      <td>0.0840</td>\n",
       "      <td>3948.0</td>\n",
       "      <td>314.0</td>\n",
       "      <td>1.0</td>\n",
       "    </tr>\n",
       "  </tbody>\n",
       "</table>\n",
       "<p>2603 rows × 9 columns</p>\n",
       "</div>"
      ],
      "text/plain": [
       "                    Mean      MCSE  StdDev        5%         50%        95%  \\\n",
       "name                                                                          \n",
       "lp__         2000.000000  0.027000  0.9900  2000.000  2000.00000  2000.0000   \n",
       "sigma           0.050000  0.000032  0.0010     0.049     0.05000     0.0520   \n",
       "mu             -0.000640  0.000021  0.0014    -0.003    -0.00065     0.0016   \n",
       "log_lik[1]      1.900000  0.000510  0.0200     1.900     1.90000     2.0000   \n",
       "log_lik[2]      2.000000  0.000570  0.0200     1.900     2.00000     2.0000   \n",
       "...                  ...       ...     ...       ...         ...        ...   \n",
       "y_hat[1296]     0.001000  0.000800  0.0510    -0.083     0.00091     0.0850   \n",
       "y_hat[1297]    -0.001400  0.000810  0.0510    -0.086    -0.00069     0.0820   \n",
       "y_hat[1298]    -0.000930  0.000790  0.0510    -0.085    -0.00086     0.0820   \n",
       "y_hat[1299]     0.000053  0.000790  0.0500    -0.082    -0.00096     0.0830   \n",
       "y_hat[1300]    -0.001200  0.000810  0.0510    -0.084    -0.00079     0.0840   \n",
       "\n",
       "              N_Eff  N_Eff/s  R_hat  \n",
       "name                                 \n",
       "lp__         1300.0    110.0    1.0  \n",
       "sigma        1000.0     79.0    1.0  \n",
       "mu           4400.0    350.0    1.0  \n",
       "log_lik[1]   1593.0    127.0    1.0  \n",
       "log_lik[2]   1242.0     99.0    1.0  \n",
       "...             ...      ...    ...  \n",
       "y_hat[1296]  4065.0    323.0    1.0  \n",
       "y_hat[1297]  4068.0    323.0    1.0  \n",
       "y_hat[1298]  4135.0    329.0    1.0  \n",
       "y_hat[1299]  4030.0    320.0    1.0  \n",
       "y_hat[1300]  3948.0    314.0    1.0  \n",
       "\n",
       "[2603 rows x 9 columns]"
      ]
     },
     "execution_count": 37,
     "metadata": {},
     "output_type": "execute_result"
    }
   ],
   "source": [
    "result_3_2 = model_3.sample(data=data_3_2, chains = 4)\n",
    "result_3_2.summary()"
   ]
  },
  {
   "cell_type": "code",
   "execution_count": 46,
   "metadata": {},
   "outputs": [
    {
     "name": "stderr",
     "output_type": "stream",
     "text": [
      "INFO:cmdstanpy:CmdStan start procesing\n",
      "chain 1 |\u001b[33m          \u001b[0m| 00:00 Status\n",
      "\u001b[A\n",
      "\n",
      "chain 1 |\u001b[33m█▎        \u001b[0m| 00:00 Iteration:  100 / 2000 [  5%]  (Warmup)\n",
      "\u001b[A\n",
      "\n",
      "chain 1 |\u001b[33m██▎       \u001b[0m| 00:00 Iteration:  300 / 2000 [ 15%]  (Warmup)\n",
      "\n",
      "\u001b[A\u001b[A\n",
      "chain 1 |\u001b[33m███▏      \u001b[0m| 00:00 Iteration:  500 / 2000 [ 25%]  (Warmup)\n",
      "\n",
      "\u001b[A\u001b[A\n",
      "chain 1 |\u001b[33m████      \u001b[0m| 00:00 Iteration:  700 / 2000 [ 35%]  (Warmup)\n",
      "\n",
      "\u001b[A\u001b[A\n",
      "\n",
      "chain 1 |\u001b[33m█████     \u001b[0m| 00:00 Iteration:  900 / 2000 [ 45%]  (Warmup)\n",
      "\u001b[A\n",
      "\n",
      "\u001b[A\u001b[A\n",
      "\u001b[A\n",
      "\n",
      "\u001b[A\u001b[A\n",
      "\n",
      "chain 1 |\u001b[34m█████▉    \u001b[0m| 00:01 Iteration: 1001 / 2000 [ 50%]  (Sampling)\n",
      "\u001b[A\n",
      "\n",
      "chain 1 |\u001b[34m██████▎   \u001b[0m| 00:01 Iteration: 1100 / 2000 [ 55%]  (Sampling)\n",
      "\u001b[A\n",
      "\n",
      "chain 1 |\u001b[34m██████▊   \u001b[0m| 00:02 Iteration: 1200 / 2000 [ 60%]  (Sampling)\n",
      "\u001b[A\n",
      "\n",
      "chain 1 |\u001b[34m███████▎  \u001b[0m| 00:02 Iteration: 1300 / 2000 [ 65%]  (Sampling)\n",
      "\u001b[A\n",
      "\n",
      "chain 1 |\u001b[34m███████▋  \u001b[0m| 00:03 Iteration: 1400 / 2000 [ 70%]  (Sampling)\n",
      "\u001b[A\n",
      "\n",
      "chain 1 |\u001b[34m████████▏ \u001b[0m| 00:03 Iteration: 1500 / 2000 [ 75%]  (Sampling)\n",
      "\u001b[A\n",
      "\n",
      "chain 1 |\u001b[34m████████▋ \u001b[0m| 00:04 Iteration: 1600 / 2000 [ 80%]  (Sampling)\n",
      "\u001b[A\n",
      "\n",
      "chain 1 |\u001b[34m█████████ \u001b[0m| 00:04 Iteration: 1700 / 2000 [ 85%]  (Sampling)\n",
      "\u001b[A\n",
      "\n",
      "chain 1 |\u001b[34m█████████▌\u001b[0m| 00:05 Iteration: 1800 / 2000 [ 90%]  (Sampling)\n",
      "\u001b[A\n",
      "\n",
      "chain 1 |\u001b[34m██████████\u001b[0m| 00:05 Iteration: 1900 / 2000 [ 95%]  (Sampling)\n",
      "\u001b[A\n",
      "\n",
      "chain 1 |\u001b[34m██████████\u001b[0m| 00:06 Sampling completed                       \n",
      "chain 2 |\u001b[34m██████████\u001b[0m| 00:06 Sampling completed                       \n",
      "chain 3 |\u001b[34m██████████\u001b[0m| 00:06 Sampling completed                       \n",
      "chain 4 |\u001b[34m██████████\u001b[0m| 00:06 Sampling completed                       "
     ]
    },
    {
     "name": "stdout",
     "output_type": "stream",
     "text": [
      "                                                                                                                                                                                                                                                                                                                                "
     ]
    },
    {
     "name": "stderr",
     "output_type": "stream",
     "text": [
      "\n",
      "INFO:cmdstanpy:CmdStan done processing.\n"
     ]
    },
    {
     "name": "stdout",
     "output_type": "stream",
     "text": [
      "\n"
     ]
    },
    {
     "data": {
      "text/html": [
       "<div>\n",
       "<style scoped>\n",
       "    .dataframe tbody tr th:only-of-type {\n",
       "        vertical-align: middle;\n",
       "    }\n",
       "\n",
       "    .dataframe tbody tr th {\n",
       "        vertical-align: top;\n",
       "    }\n",
       "\n",
       "    .dataframe thead th {\n",
       "        text-align: right;\n",
       "    }\n",
       "</style>\n",
       "<table border=\"1\" class=\"dataframe\">\n",
       "  <thead>\n",
       "    <tr style=\"text-align: right;\">\n",
       "      <th></th>\n",
       "      <th>Mean</th>\n",
       "      <th>MCSE</th>\n",
       "      <th>StdDev</th>\n",
       "      <th>5%</th>\n",
       "      <th>50%</th>\n",
       "      <th>95%</th>\n",
       "      <th>N_Eff</th>\n",
       "      <th>N_Eff/s</th>\n",
       "      <th>R_hat</th>\n",
       "    </tr>\n",
       "    <tr>\n",
       "      <th>name</th>\n",
       "      <th></th>\n",
       "      <th></th>\n",
       "      <th></th>\n",
       "      <th></th>\n",
       "      <th></th>\n",
       "      <th></th>\n",
       "      <th></th>\n",
       "      <th></th>\n",
       "      <th></th>\n",
       "    </tr>\n",
       "  </thead>\n",
       "  <tbody>\n",
       "    <tr>\n",
       "      <th>lp__</th>\n",
       "      <td>3300.0000</td>\n",
       "      <td>0.033000</td>\n",
       "      <td>1.20000</td>\n",
       "      <td>3300.0000</td>\n",
       "      <td>3300.0000</td>\n",
       "      <td>3300.0000</td>\n",
       "      <td>1300.0</td>\n",
       "      <td>69.0</td>\n",
       "      <td>1.0</td>\n",
       "    </tr>\n",
       "    <tr>\n",
       "      <th>sigma</th>\n",
       "      <td>0.0190</td>\n",
       "      <td>0.000011</td>\n",
       "      <td>0.00044</td>\n",
       "      <td>0.0180</td>\n",
       "      <td>0.0190</td>\n",
       "      <td>0.0200</td>\n",
       "      <td>1600.0</td>\n",
       "      <td>88.0</td>\n",
       "      <td>1.0</td>\n",
       "    </tr>\n",
       "    <tr>\n",
       "      <th>mu</th>\n",
       "      <td>0.0084</td>\n",
       "      <td>0.000008</td>\n",
       "      <td>0.00053</td>\n",
       "      <td>0.0075</td>\n",
       "      <td>0.0084</td>\n",
       "      <td>0.0092</td>\n",
       "      <td>4300.0</td>\n",
       "      <td>240.0</td>\n",
       "      <td>1.0</td>\n",
       "    </tr>\n",
       "    <tr>\n",
       "      <th>nu</th>\n",
       "      <td>36.0000</td>\n",
       "      <td>0.380000</td>\n",
       "      <td>14.00000</td>\n",
       "      <td>18.0000</td>\n",
       "      <td>33.0000</td>\n",
       "      <td>63.0000</td>\n",
       "      <td>1400.0</td>\n",
       "      <td>78.0</td>\n",
       "      <td>1.0</td>\n",
       "    </tr>\n",
       "    <tr>\n",
       "      <th>log_lik[1]</th>\n",
       "      <td>3.0000</td>\n",
       "      <td>0.000520</td>\n",
       "      <td>0.02200</td>\n",
       "      <td>3.0000</td>\n",
       "      <td>3.0000</td>\n",
       "      <td>3.1000</td>\n",
       "      <td>1766.0</td>\n",
       "      <td>96.0</td>\n",
       "      <td>1.0</td>\n",
       "    </tr>\n",
       "    <tr>\n",
       "      <th>...</th>\n",
       "      <td>...</td>\n",
       "      <td>...</td>\n",
       "      <td>...</td>\n",
       "      <td>...</td>\n",
       "      <td>...</td>\n",
       "      <td>...</td>\n",
       "      <td>...</td>\n",
       "      <td>...</td>\n",
       "      <td>...</td>\n",
       "    </tr>\n",
       "    <tr>\n",
       "      <th>y_hat[1296]</th>\n",
       "      <td>0.0084</td>\n",
       "      <td>0.000290</td>\n",
       "      <td>0.01900</td>\n",
       "      <td>-0.0240</td>\n",
       "      <td>0.0086</td>\n",
       "      <td>0.0390</td>\n",
       "      <td>4323.0</td>\n",
       "      <td>235.0</td>\n",
       "      <td>1.0</td>\n",
       "    </tr>\n",
       "    <tr>\n",
       "      <th>y_hat[1297]</th>\n",
       "      <td>0.0080</td>\n",
       "      <td>0.000310</td>\n",
       "      <td>0.02000</td>\n",
       "      <td>-0.0240</td>\n",
       "      <td>0.0082</td>\n",
       "      <td>0.0400</td>\n",
       "      <td>3997.0</td>\n",
       "      <td>217.0</td>\n",
       "      <td>1.0</td>\n",
       "    </tr>\n",
       "    <tr>\n",
       "      <th>y_hat[1298]</th>\n",
       "      <td>0.0084</td>\n",
       "      <td>0.000320</td>\n",
       "      <td>0.02000</td>\n",
       "      <td>-0.0240</td>\n",
       "      <td>0.0086</td>\n",
       "      <td>0.0420</td>\n",
       "      <td>3818.0</td>\n",
       "      <td>208.0</td>\n",
       "      <td>1.0</td>\n",
       "    </tr>\n",
       "    <tr>\n",
       "      <th>y_hat[1299]</th>\n",
       "      <td>0.0084</td>\n",
       "      <td>0.000310</td>\n",
       "      <td>0.02000</td>\n",
       "      <td>-0.0250</td>\n",
       "      <td>0.0086</td>\n",
       "      <td>0.0410</td>\n",
       "      <td>4137.0</td>\n",
       "      <td>225.0</td>\n",
       "      <td>1.0</td>\n",
       "    </tr>\n",
       "    <tr>\n",
       "      <th>y_hat[1300]</th>\n",
       "      <td>0.0088</td>\n",
       "      <td>0.000320</td>\n",
       "      <td>0.02000</td>\n",
       "      <td>-0.0230</td>\n",
       "      <td>0.0087</td>\n",
       "      <td>0.0410</td>\n",
       "      <td>3833.0</td>\n",
       "      <td>208.0</td>\n",
       "      <td>1.0</td>\n",
       "    </tr>\n",
       "  </tbody>\n",
       "</table>\n",
       "<p>2604 rows × 9 columns</p>\n",
       "</div>"
      ],
      "text/plain": [
       "                  Mean      MCSE    StdDev         5%        50%        95%  \\\n",
       "name                                                                          \n",
       "lp__         3300.0000  0.033000   1.20000  3300.0000  3300.0000  3300.0000   \n",
       "sigma           0.0190  0.000011   0.00044     0.0180     0.0190     0.0200   \n",
       "mu              0.0084  0.000008   0.00053     0.0075     0.0084     0.0092   \n",
       "nu             36.0000  0.380000  14.00000    18.0000    33.0000    63.0000   \n",
       "log_lik[1]      3.0000  0.000520   0.02200     3.0000     3.0000     3.1000   \n",
       "...                ...       ...       ...        ...        ...        ...   \n",
       "y_hat[1296]     0.0084  0.000290   0.01900    -0.0240     0.0086     0.0390   \n",
       "y_hat[1297]     0.0080  0.000310   0.02000    -0.0240     0.0082     0.0400   \n",
       "y_hat[1298]     0.0084  0.000320   0.02000    -0.0240     0.0086     0.0420   \n",
       "y_hat[1299]     0.0084  0.000310   0.02000    -0.0250     0.0086     0.0410   \n",
       "y_hat[1300]     0.0088  0.000320   0.02000    -0.0230     0.0087     0.0410   \n",
       "\n",
       "              N_Eff  N_Eff/s  R_hat  \n",
       "name                                 \n",
       "lp__         1300.0     69.0    1.0  \n",
       "sigma        1600.0     88.0    1.0  \n",
       "mu           4300.0    240.0    1.0  \n",
       "nu           1400.0     78.0    1.0  \n",
       "log_lik[1]   1766.0     96.0    1.0  \n",
       "...             ...      ...    ...  \n",
       "y_hat[1296]  4323.0    235.0    1.0  \n",
       "y_hat[1297]  3997.0    217.0    1.0  \n",
       "y_hat[1298]  3818.0    208.0    1.0  \n",
       "y_hat[1299]  4137.0    225.0    1.0  \n",
       "y_hat[1300]  3833.0    208.0    1.0  \n",
       "\n",
       "[2604 rows x 9 columns]"
      ]
     },
     "execution_count": 46,
     "metadata": {},
     "output_type": "execute_result"
    }
   ],
   "source": [
    "result_4_1 = model_4.sample(data=data_4_1, chains = 4)\n",
    "result_4_1.summary()"
   ]
  },
  {
   "cell_type": "code",
   "execution_count": 40,
   "metadata": {},
   "outputs": [
    {
     "name": "stderr",
     "output_type": "stream",
     "text": [
      "INFO:cmdstanpy:CmdStan start procesing\n",
      "chain 1 |\u001b[33m          \u001b[0m| 00:00 Status\n",
      "\u001b[A\n",
      "\n",
      "\u001b[A\u001b[A\n",
      "\n",
      "\u001b[A\u001b[A\n",
      "\u001b[A\n",
      "\n",
      "\u001b[A\u001b[A\n",
      "\u001b[A\n",
      "\n",
      "\u001b[A\u001b[A\n",
      "chain 1 |\u001b[33m▉         \u001b[0m| 00:00 Iteration:    1 / 2000 [  0%]  (Warmup)\n",
      "\n",
      "chain 1 |\u001b[33m███▏      \u001b[0m| 00:00 Iteration:  500 / 2000 [ 25%]  (Warmup)\n",
      "chain 1 |\u001b[33m████▌     \u001b[0m| 00:00 Iteration:  800 / 2000 [ 40%]  (Warmup)\n",
      "\n",
      "chain 1 |\u001b[34m█████▉    \u001b[0m| 00:01 Iteration: 1001 / 2000 [ 50%]  (Sampling)\n",
      "\u001b[A\n",
      "\n",
      "chain 1 |\u001b[34m██████▊   \u001b[0m| 00:02 Iteration: 1200 / 2000 [ 60%]  (Sampling)\n",
      "\u001b[A\n",
      "\n",
      "chain 1 |\u001b[34m███████▎  \u001b[0m| 00:02 Iteration: 1300 / 2000 [ 65%]  (Sampling)\n",
      "\u001b[A\n",
      "\n",
      "chain 1 |\u001b[34m███████▋  \u001b[0m| 00:03 Iteration: 1400 / 2000 [ 70%]  (Sampling)\n",
      "\u001b[A\n",
      "\n",
      "chain 1 |\u001b[34m████████▏ \u001b[0m| 00:03 Iteration: 1500 / 2000 [ 75%]  (Sampling)\n",
      "\n",
      "\u001b[A\u001b[A\n",
      "chain 1 |\u001b[34m████████▋ \u001b[0m| 00:03 Iteration: 1600 / 2000 [ 80%]  (Sampling)\n",
      "\n",
      "\u001b[A\u001b[A\n",
      "chain 1 |\u001b[34m█████████ \u001b[0m| 00:04 Iteration: 1700 / 2000 [ 85%]  (Sampling)\n",
      "\n",
      "\u001b[A\u001b[A\n",
      "chain 1 |\u001b[34m██████████\u001b[0m| 00:05 Sampling completed                       \n",
      "chain 2 |\u001b[34m██████████\u001b[0m| 00:05 Sampling completed                       \n",
      "chain 3 |\u001b[34m██████████\u001b[0m| 00:05 Sampling completed                       \n",
      "chain 4 |\u001b[34m██████████\u001b[0m| 00:05 Sampling completed                       "
     ]
    },
    {
     "name": "stdout",
     "output_type": "stream",
     "text": [
      "                                                                                                                                                                                                                                                                                                                                "
     ]
    },
    {
     "name": "stderr",
     "output_type": "stream",
     "text": [
      "\n",
      "INFO:cmdstanpy:CmdStan done processing.\n"
     ]
    },
    {
     "name": "stdout",
     "output_type": "stream",
     "text": [
      "\n"
     ]
    },
    {
     "data": {
      "text/html": [
       "<div>\n",
       "<style scoped>\n",
       "    .dataframe tbody tr th:only-of-type {\n",
       "        vertical-align: middle;\n",
       "    }\n",
       "\n",
       "    .dataframe tbody tr th {\n",
       "        vertical-align: top;\n",
       "    }\n",
       "\n",
       "    .dataframe thead th {\n",
       "        text-align: right;\n",
       "    }\n",
       "</style>\n",
       "<table border=\"1\" class=\"dataframe\">\n",
       "  <thead>\n",
       "    <tr style=\"text-align: right;\">\n",
       "      <th></th>\n",
       "      <th>Mean</th>\n",
       "      <th>MCSE</th>\n",
       "      <th>StdDev</th>\n",
       "      <th>5%</th>\n",
       "      <th>50%</th>\n",
       "      <th>95%</th>\n",
       "      <th>N_Eff</th>\n",
       "      <th>N_Eff/s</th>\n",
       "      <th>R_hat</th>\n",
       "    </tr>\n",
       "    <tr>\n",
       "      <th>name</th>\n",
       "      <th></th>\n",
       "      <th></th>\n",
       "      <th></th>\n",
       "      <th></th>\n",
       "      <th></th>\n",
       "      <th></th>\n",
       "      <th></th>\n",
       "      <th></th>\n",
       "      <th></th>\n",
       "    </tr>\n",
       "  </thead>\n",
       "  <tbody>\n",
       "    <tr>\n",
       "      <th>lp__</th>\n",
       "      <td>2000.00000</td>\n",
       "      <td>0.031000</td>\n",
       "      <td>1.2000</td>\n",
       "      <td>2000.000</td>\n",
       "      <td>2000.00000</td>\n",
       "      <td>2000.0000</td>\n",
       "      <td>1500.0</td>\n",
       "      <td>89.0</td>\n",
       "      <td>1.0</td>\n",
       "    </tr>\n",
       "    <tr>\n",
       "      <th>sigma</th>\n",
       "      <td>0.04800</td>\n",
       "      <td>0.000031</td>\n",
       "      <td>0.0012</td>\n",
       "      <td>0.046</td>\n",
       "      <td>0.04800</td>\n",
       "      <td>0.0500</td>\n",
       "      <td>1600.0</td>\n",
       "      <td>94.0</td>\n",
       "      <td>1.0</td>\n",
       "    </tr>\n",
       "    <tr>\n",
       "      <th>mu</th>\n",
       "      <td>-0.00072</td>\n",
       "      <td>0.000019</td>\n",
       "      <td>0.0014</td>\n",
       "      <td>-0.003</td>\n",
       "      <td>-0.00074</td>\n",
       "      <td>0.0016</td>\n",
       "      <td>5200.0</td>\n",
       "      <td>310.0</td>\n",
       "      <td>1.0</td>\n",
       "    </tr>\n",
       "    <tr>\n",
       "      <th>nu</th>\n",
       "      <td>31.00000</td>\n",
       "      <td>0.330000</td>\n",
       "      <td>13.0000</td>\n",
       "      <td>15.000</td>\n",
       "      <td>29.00000</td>\n",
       "      <td>58.0000</td>\n",
       "      <td>1600.0</td>\n",
       "      <td>95.0</td>\n",
       "      <td>1.0</td>\n",
       "    </tr>\n",
       "    <tr>\n",
       "      <th>log_lik[1]</th>\n",
       "      <td>2.00000</td>\n",
       "      <td>0.000440</td>\n",
       "      <td>0.0220</td>\n",
       "      <td>1.900</td>\n",
       "      <td>2.00000</td>\n",
       "      <td>2.0000</td>\n",
       "      <td>2471.0</td>\n",
       "      <td>145.0</td>\n",
       "      <td>1.0</td>\n",
       "    </tr>\n",
       "    <tr>\n",
       "      <th>...</th>\n",
       "      <td>...</td>\n",
       "      <td>...</td>\n",
       "      <td>...</td>\n",
       "      <td>...</td>\n",
       "      <td>...</td>\n",
       "      <td>...</td>\n",
       "      <td>...</td>\n",
       "      <td>...</td>\n",
       "      <td>...</td>\n",
       "    </tr>\n",
       "    <tr>\n",
       "      <th>y_hat[1296]</th>\n",
       "      <td>-0.00050</td>\n",
       "      <td>0.000790</td>\n",
       "      <td>0.0500</td>\n",
       "      <td>-0.082</td>\n",
       "      <td>-0.00070</td>\n",
       "      <td>0.0810</td>\n",
       "      <td>3996.0</td>\n",
       "      <td>234.0</td>\n",
       "      <td>1.0</td>\n",
       "    </tr>\n",
       "    <tr>\n",
       "      <th>y_hat[1297]</th>\n",
       "      <td>-0.00100</td>\n",
       "      <td>0.000800</td>\n",
       "      <td>0.0500</td>\n",
       "      <td>-0.083</td>\n",
       "      <td>-0.00052</td>\n",
       "      <td>0.0800</td>\n",
       "      <td>3811.0</td>\n",
       "      <td>224.0</td>\n",
       "      <td>1.0</td>\n",
       "    </tr>\n",
       "    <tr>\n",
       "      <th>y_hat[1298]</th>\n",
       "      <td>-0.00110</td>\n",
       "      <td>0.000790</td>\n",
       "      <td>0.0500</td>\n",
       "      <td>-0.081</td>\n",
       "      <td>-0.00130</td>\n",
       "      <td>0.0830</td>\n",
       "      <td>4059.0</td>\n",
       "      <td>238.0</td>\n",
       "      <td>1.0</td>\n",
       "    </tr>\n",
       "    <tr>\n",
       "      <th>y_hat[1299]</th>\n",
       "      <td>0.00120</td>\n",
       "      <td>0.000820</td>\n",
       "      <td>0.0500</td>\n",
       "      <td>-0.081</td>\n",
       "      <td>0.00120</td>\n",
       "      <td>0.0850</td>\n",
       "      <td>3802.0</td>\n",
       "      <td>223.0</td>\n",
       "      <td>1.0</td>\n",
       "    </tr>\n",
       "    <tr>\n",
       "      <th>y_hat[1300]</th>\n",
       "      <td>-0.00062</td>\n",
       "      <td>0.000860</td>\n",
       "      <td>0.0510</td>\n",
       "      <td>-0.082</td>\n",
       "      <td>-0.00120</td>\n",
       "      <td>0.0820</td>\n",
       "      <td>3566.0</td>\n",
       "      <td>209.0</td>\n",
       "      <td>1.0</td>\n",
       "    </tr>\n",
       "  </tbody>\n",
       "</table>\n",
       "<p>2604 rows × 9 columns</p>\n",
       "</div>"
      ],
      "text/plain": [
       "                   Mean      MCSE   StdDev        5%         50%        95%  \\\n",
       "name                                                                          \n",
       "lp__         2000.00000  0.031000   1.2000  2000.000  2000.00000  2000.0000   \n",
       "sigma           0.04800  0.000031   0.0012     0.046     0.04800     0.0500   \n",
       "mu             -0.00072  0.000019   0.0014    -0.003    -0.00074     0.0016   \n",
       "nu             31.00000  0.330000  13.0000    15.000    29.00000    58.0000   \n",
       "log_lik[1]      2.00000  0.000440   0.0220     1.900     2.00000     2.0000   \n",
       "...                 ...       ...      ...       ...         ...        ...   \n",
       "y_hat[1296]    -0.00050  0.000790   0.0500    -0.082    -0.00070     0.0810   \n",
       "y_hat[1297]    -0.00100  0.000800   0.0500    -0.083    -0.00052     0.0800   \n",
       "y_hat[1298]    -0.00110  0.000790   0.0500    -0.081    -0.00130     0.0830   \n",
       "y_hat[1299]     0.00120  0.000820   0.0500    -0.081     0.00120     0.0850   \n",
       "y_hat[1300]    -0.00062  0.000860   0.0510    -0.082    -0.00120     0.0820   \n",
       "\n",
       "              N_Eff  N_Eff/s  R_hat  \n",
       "name                                 \n",
       "lp__         1500.0     89.0    1.0  \n",
       "sigma        1600.0     94.0    1.0  \n",
       "mu           5200.0    310.0    1.0  \n",
       "nu           1600.0     95.0    1.0  \n",
       "log_lik[1]   2471.0    145.0    1.0  \n",
       "...             ...      ...    ...  \n",
       "y_hat[1296]  3996.0    234.0    1.0  \n",
       "y_hat[1297]  3811.0    224.0    1.0  \n",
       "y_hat[1298]  4059.0    238.0    1.0  \n",
       "y_hat[1299]  3802.0    223.0    1.0  \n",
       "y_hat[1300]  3566.0    209.0    1.0  \n",
       "\n",
       "[2604 rows x 9 columns]"
      ]
     },
     "execution_count": 40,
     "metadata": {},
     "output_type": "execute_result"
    }
   ],
   "source": [
    "result_4_2 = model_4.sample(data=data_4_2, chains = 4)\n",
    "result_4_2.summary()"
   ]
  },
  {
   "cell_type": "markdown",
   "metadata": {},
   "source": [
    "2.3 Using az.compare and az.plot_compare analyze both models using loo and waic criteria."
   ]
  },
  {
   "cell_type": "code",
   "execution_count": 57,
   "metadata": {},
   "outputs": [
    {
     "data": {
      "image/png": "[encoded data removed]",
      "text/plain": [
       "<Figure size 432x288 with 1 Axes>"
      ]
     },
     "metadata": {
      "needs_background": "light"
     },
     "output_type": "display_data"
    },
    {
     "data": {
      "image/png": "[encoded data removed]",
      "text/plain": [
       "<Figure size 432x288 with 1 Axes>"
      ]
     },
     "metadata": {
      "needs_background": "light"
     },
     "output_type": "display_data"
    },
    {
     "data": {
      "image/png": "[encoded data removed]",
      "text/plain": [
       "<Figure size 432x288 with 1 Axes>"
      ]
     },
     "metadata": {
      "needs_background": "light"
     },
     "output_type": "display_data"
    }
   ],
   "source": [
    "med_prob_ppc_3_1 = np.percentile(result_3_1.stan_variable('y_hat'),[5,16,50,84,95],axis=0)\n",
    "med_prob_ppc = med_prob_ppc_3_1\n",
    "plt.plot(y1_median)\n",
    "plt.plot(med_prob_ppc[0])\n",
    "plt.plot(med_prob_ppc[1])\n",
    "plt.plot(med_prob_ppc[2])\n",
    "plt.plot(med_prob_ppc[3])\n",
    "plt.plot(med_prob_ppc[4])\n",
    "labels= [ \"y1_median\", \"5%\", \"16%\", \"50%\", \"84%\", \"95%\"]\n",
    "plt.legend(labels)\n",
    "plt.show()\n",
    "\n",
    "y_hat_3_1_median=np.percentile(result_3_1.stan_variable('y_hat')[:,:],50,axis=0)\n",
    "plt.hist(y_hat_3_1_median,bins=40)\n",
    "plt.show()\n",
    "plt.hist(y1_median,bins=40)\n",
    "plt.show()"
   ]
  },
  {
   "cell_type": "code",
   "execution_count": 64,
   "metadata": {},
   "outputs": [
    {
     "data": {
      "image/png": "[encoded data removed]",
      "text/plain": [
       "<Figure size 432x288 with 1 Axes>"
      ]
     },
     "metadata": {
      "needs_background": "light"
     },
     "output_type": "display_data"
    },
    {
     "data": {
      "image/png": "[encoded data removed]",
      "text/plain": [
       "<Figure size 432x288 with 1 Axes>"
      ]
     },
     "metadata": {
      "needs_background": "light"
     },
     "output_type": "display_data"
    },
    {
     "data": {
      "image/png": "[encoded data removed]",
      "text/plain": [
       "<Figure size 432x288 with 1 Axes>"
      ]
     },
     "metadata": {
      "needs_background": "light"
     },
     "output_type": "display_data"
    }
   ],
   "source": [
    "med_prob_ppc_4_1 = np.percentile(result_4_1.stan_variable('y_hat'),[5,16,50,84,95],axis=0)\n",
    "med_prob_ppc = med_prob_ppc_4_1\n",
    "plt.plot(y1_median)\n",
    "plt.plot(med_prob_ppc[0])\n",
    "plt.plot(med_prob_ppc[1])\n",
    "plt.plot(med_prob_ppc[2])\n",
    "plt.plot(med_prob_ppc[3])\n",
    "plt.plot(med_prob_ppc[4])\n",
    "labels= [ \"y2_median\", \"5%\", \"16%\", \"50%\", \"84%\", \"95%\"]\n",
    "plt.legend(labels)\n",
    "plt.show()\n",
    "\n",
    "y_hat_4_1_median=np.percentile(result_4_1.stan_variable('y_hat')[:,:],50,axis=0)\n",
    "plt.hist(y_hat_4_1_median,bins=40)\n",
    "plt.show()\n",
    "plt.hist(y1_median,bins=40)\n",
    "plt.show()"
   ]
  },
  {
   "cell_type": "code",
   "execution_count": 75,
   "metadata": {},
   "outputs": [
    {
     "data": {
      "text/plain": [
       "<AxesSubplot:xlabel='Log'>"
      ]
     },
     "execution_count": 75,
     "metadata": {},
     "output_type": "execute_result"
    },
    {
     "data": {
      "image/png": "[encoded data removed]",
      "text/plain": [
       "<Figure size 432x144 with 1 Axes>"
      ]
     },
     "metadata": {
      "needs_background": "light"
     },
     "output_type": "display_data"
    },
    {
     "data": {
      "image/png": "[encoded data removed]",
      "text/plain": [
       "<Figure size 432x144 with 1 Axes>"
      ]
     },
     "metadata": {
      "needs_background": "light"
     },
     "output_type": "display_data"
    }
   ],
   "source": [
    "results_1 = {'result_3_1': result_3_1,'result_4_1': result_4_1}\n",
    "comparisson_waic_1 = az.compare(results_1, ic = 'waic')\n",
    "az.plot_compare(comparisson_waic_1)\n",
    "comparisson_loo_1 = az.compare(results_1, ic = 'loo')\n",
    "az.plot_compare(comparisson_loo_1)"
   ]
  },
  {
   "cell_type": "code",
   "execution_count": 62,
   "metadata": {},
   "outputs": [
    {
     "data": {
      "image/png": "[encoded data removed]",
      "text/plain": [
       "<Figure size 432x288 with 1 Axes>"
      ]
     },
     "metadata": {
      "needs_background": "light"
     },
     "output_type": "display_data"
    },
    {
     "data": {
      "image/png": "[encoded data removed]",
      "text/plain": [
       "<Figure size 432x288 with 1 Axes>"
      ]
     },
     "metadata": {
      "needs_background": "light"
     },
     "output_type": "display_data"
    },
    {
     "data": {
      "image/png": "[encoded data removed]",
      "text/plain": [
       "<Figure size 432x288 with 1 Axes>"
      ]
     },
     "metadata": {
      "needs_background": "light"
     },
     "output_type": "display_data"
    }
   ],
   "source": [
    "med_prob_ppc_3_2 = np.percentile(result_3_2.stan_variable('y_hat'),[5,16,50,84,95],axis=0)\n",
    "med_prob_ppc = med_prob_ppc_3_2\n",
    "plt.plot(y2_median)\n",
    "plt.plot(med_prob_ppc[0])\n",
    "plt.plot(med_prob_ppc[1])\n",
    "plt.plot(med_prob_ppc[2])\n",
    "plt.plot(med_prob_ppc[3])\n",
    "plt.plot(med_prob_ppc[4])\n",
    "labels= [ \"y2_median\", \"5%\", \"16%\", \"50%\", \"84%\", \"95%\"]\n",
    "plt.legend(labels)\n",
    "plt.show()\n",
    "\n",
    "y_hat_3_2_median=np.percentile(result_3_2.stan_variable('y_hat')[:,:],50,axis=0)\n",
    "plt.hist(y_hat_3_2_median,bins=40)\n",
    "plt.show()\n",
    "plt.hist(y2_median,bins=40)\n",
    "plt.show()"
   ]
  },
  {
   "cell_type": "code",
   "execution_count": 63,
   "metadata": {},
   "outputs": [
    {
     "data": {
      "image/png": "[encoded data removed]",
      "text/plain": [
       "<Figure size 432x288 with 1 Axes>"
      ]
     },
     "metadata": {
      "needs_background": "light"
     },
     "output_type": "display_data"
    },
    {
     "data": {
      "image/png": "[encoded data removed]",
      "text/plain": [
       "<Figure size 432x288 with 1 Axes>"
      ]
     },
     "metadata": {
      "needs_background": "light"
     },
     "output_type": "display_data"
    },
    {
     "data": {
      "image/png": "[encoded data removed]",
      "text/plain": [
       "<Figure size 432x288 with 1 Axes>"
      ]
     },
     "metadata": {
      "needs_background": "light"
     },
     "output_type": "display_data"
    }
   ],
   "source": [
    "med_prob_ppc_4_2 = np.percentile(result_4_2.stan_variable('y_hat'),[5,16,50,84,95],axis=0)\n",
    "med_prob_ppc = med_prob_ppc_4_2\n",
    "plt.plot(y1_median)\n",
    "plt.plot(med_prob_ppc[0])\n",
    "plt.plot(med_prob_ppc[1])\n",
    "plt.plot(med_prob_ppc[2])\n",
    "plt.plot(med_prob_ppc[3])\n",
    "plt.plot(med_prob_ppc[4])\n",
    "labels= [ \"y2_median\", \"5%\", \"16%\", \"50%\", \"84%\", \"95%\"]\n",
    "plt.legend(labels)\n",
    "plt.show()\n",
    "\n",
    "y_hat_4_2_median=np.percentile(result_4_2.stan_variable('y_hat')[:,:],50,axis=0)\n",
    "plt.hist(y_hat_4_2_median,bins=40)\n",
    "plt.show()\n",
    "plt.hist(y2_median,bins=40)\n",
    "plt.show()"
   ]
  },
  {
   "cell_type": "code",
   "execution_count": 74,
   "metadata": {},
   "outputs": [
    {
     "data": {
      "text/plain": [
       "<AxesSubplot:xlabel='Log'>"
      ]
     },
     "execution_count": 74,
     "metadata": {},
     "output_type": "execute_result"
    },
    {
     "data": {
      "image/png": "[encoded data removed]",
      "text/plain": [
       "<Figure size 432x144 with 1 Axes>"
      ]
     },
     "metadata": {
      "needs_background": "light"
     },
     "output_type": "display_data"
    },
    {
     "data": {
      "image/png": "[encoded data removed]",
      "text/plain": [
       "<Figure size 432x144 with 1 Axes>"
      ]
     },
     "metadata": {
      "needs_background": "light"
     },
     "output_type": "display_data"
    }
   ],
   "source": [
    "results_2 = {'result_3_2': result_3_2,'result_4_2': result_4_2}\n",
    "comparisson_waic_2 = az.compare(results_2, ic = 'waic')\n",
    "az.plot_compare(comparisson_waic_2)\n",
    "comparisson_loo_2 = az.compare(results_2, ic = 'loo')\n",
    "az.plot_compare(comparisson_loo_2)"
   ]
  },
  {
   "cell_type": "markdown",
   "metadata": {},
   "source": [
    "Excercise 3 - compare models with different numbers of predictors"
   ]
  },
  {
   "cell_type": "markdown",
   "metadata": {},
   "source": [
    "1. Compile model"
   ]
  },
  {
   "cell_type": "code",
   "execution_count": 205,
   "metadata": {},
   "outputs": [],
   "source": [
    "x2_median_1_3=np.percentile(result_2.stan_variable('X')[:,:],50,axis=0)\n",
    "x2_median_0=np.percentile(result_2.stan_variable('X')[:,:,0],50,axis=0)\n",
    "x2_median_1=np.percentile(result_2.stan_variable('X')[:,:,1],50,axis=0)\n",
    "x2_median_2=np.percentile(result_2.stan_variable('X')[:,:,2],50,axis=0)\n",
    "x2_median_K1=x2_median_1_3[:,0:1]\n",
    "x2_median_K2=x2_median_1_3[:,0:2]\n",
    "x2_median_K3=x2_median_1_3[:,0:3]"
   ]
  },
  {
   "cell_type": "code",
   "execution_count": 147,
   "metadata": {},
   "outputs": [
    {
     "name": "stderr",
     "output_type": "stream",
     "text": [
      "INFO:cmdstanpy:found newer exe file, not recompiling\n"
     ]
    }
   ],
   "source": [
    "model_5 = CmdStanModel(stan_file='code_5.stan')"
   ]
  },
  {
   "cell_type": "code",
   "execution_count": 207,
   "metadata": {},
   "outputs": [
    {
     "name": "stderr",
     "output_type": "stream",
     "text": [
      "INFO:cmdstanpy:CmdStan start procesing\n",
      "chain 1 |\u001b[33m          \u001b[0m| 00:00 Status\n",
      "\u001b[A\n",
      "\n",
      "\u001b[A\u001b[A\n",
      "\n",
      "chain 1 |\u001b[33m█▊        \u001b[0m| 00:00 Iteration:  200 / 2000 [ 10%]  (Warmup)\n",
      "\u001b[A\n",
      "\u001b[A\n",
      "\n",
      "chain 1 |\u001b[33m███▋      \u001b[0m| 00:00 Iteration:  600 / 2000 [ 30%]  (Warmup)\n",
      "chain 1 |\u001b[34m█████▉    \u001b[0m| 00:01 Iteration: 1001 / 2000 [ 50%]  (Sampling)\n",
      "\n",
      "chain 1 |\u001b[34m██████▊   \u001b[0m| 00:02 Iteration: 1200 / 2000 [ 60%]  (Sampling)\n",
      "\n",
      "\u001b[A\u001b[A\n",
      "chain 1 |\u001b[34m███████▋  \u001b[0m| 00:03 Iteration: 1400 / 2000 [ 70%]  (Sampling)\n",
      "chain 1 |\u001b[34m████████▏ \u001b[0m| 00:04 Iteration: 1500 / 2000 [ 75%]  (Sampling)\n",
      "\n",
      "\u001b[A\u001b[A\n",
      "chain 1 |\u001b[34m████████▋ \u001b[0m| 00:05 Iteration: 1600 / 2000 [ 80%]  (Sampling)\n",
      "\n",
      "\u001b[A\u001b[A\n",
      "chain 1 |\u001b[34m█████████ \u001b[0m| 00:06 Iteration: 1700 / 2000 [ 85%]  (Sampling)\n",
      "\n",
      "chain 1 |\u001b[34m█████████▌\u001b[0m| 00:06 Iteration: 1800 / 2000 [ 90%]  (Sampling)\n",
      "\u001b[A\n",
      "\n",
      "chain 1 |\u001b[34m██████████\u001b[0m| 00:07 Iteration: 1900 / 2000 [ 95%]  (Sampling)\n",
      "\n",
      "\u001b[A\u001b[A\n",
      "chain 1 |\u001b[34m██████████\u001b[0m| 00:07 Sampling completed                       \n",
      "chain 2 |\u001b[34m██████████\u001b[0m| 00:07 Sampling completed                       \n",
      "chain 3 |\u001b[34m██████████\u001b[0m| 00:07 Sampling completed                       \n",
      "chain 4 |\u001b[34m██████████\u001b[0m| 00:07 Sampling completed                       "
     ]
    },
    {
     "name": "stdout",
     "output_type": "stream",
     "text": [
      "                                                                                                                                                                                                                                                                                                                                "
     ]
    },
    {
     "name": "stderr",
     "output_type": "stream",
     "text": [
      "\n",
      "INFO:cmdstanpy:CmdStan done processing.\n"
     ]
    },
    {
     "name": "stdout",
     "output_type": "stream",
     "text": [
      "\n"
     ]
    }
   ],
   "source": [
    "data_5_K1=dict(\n",
    "    N=N,\n",
    "    K=1,\n",
    "    y=y2_median,\n",
    "    X=x2_median_K1\n",
    ")\n",
    "result_5_K1 = model_5.sample(data=data_5_K1, chains = 4)"
   ]
  },
  {
   "cell_type": "code",
   "execution_count": 210,
   "metadata": {},
   "outputs": [
    {
     "name": "stderr",
     "output_type": "stream",
     "text": [
      "INFO:cmdstanpy:CmdStan start procesing\n",
      "chain 1 |\u001b[33m          \u001b[0m| 00:00 Status\n",
      "\u001b[A\n",
      "\n",
      "\u001b[A\u001b[A\n",
      "chain 1 |\u001b[33m█▎        \u001b[0m| 00:00 Iteration:  100 / 2000 [  5%]  (Warmup)\n",
      "\n",
      "\u001b[A\u001b[A\n",
      "\n",
      "\u001b[A\u001b[A\n",
      "chain 1 |\u001b[33m███▋      \u001b[0m| 00:00 Iteration:  600 / 2000 [ 30%]  (Warmup)\n",
      "\u001b[A\n",
      "\n",
      "chain 1 |\u001b[34m███████▎  \u001b[0m| 00:02 Iteration: 1300 / 2000 [ 65%]  (Sampling)\n",
      "\u001b[A\n",
      "\n",
      "\u001b[A\u001b[A\n",
      "chain 1 |\u001b[34m████████▏ \u001b[0m| 00:03 Iteration: 1500 / 2000 [ 75%]  (Sampling)\n",
      "\n",
      "\u001b[A\u001b[A\n",
      "\u001b[A\n",
      "\n",
      "chain 1 |\u001b[34m█████████ \u001b[0m| 00:05 Iteration: 1700 / 2000 [ 85%]  (Sampling)\n",
      "\u001b[A\n",
      "\n",
      "chain 1 |\u001b[34m█████████▌\u001b[0m| 00:05 Iteration: 1800 / 2000 [ 90%]  (Sampling)\n",
      "\u001b[A\n",
      "\n",
      "chain 1 |\u001b[34m██████████\u001b[0m| 00:06 Sampling completed                       \n",
      "chain 2 |\u001b[34m██████████\u001b[0m| 00:06 Sampling completed                       \n",
      "chain 3 |\u001b[34m██████████\u001b[0m| 00:06 Sampling completed                       \n",
      "chain 4 |\u001b[34m██████████\u001b[0m| 00:06 Sampling completed                       "
     ]
    },
    {
     "name": "stdout",
     "output_type": "stream",
     "text": [
      "                                                                                                                                                                                                                                                                                                                                "
     ]
    },
    {
     "name": "stderr",
     "output_type": "stream",
     "text": [
      "\n",
      "INFO:cmdstanpy:CmdStan done processing.\n"
     ]
    },
    {
     "name": "stdout",
     "output_type": "stream",
     "text": [
      "\n"
     ]
    }
   ],
   "source": [
    "data_5_K2=dict(\n",
    "    N=N,\n",
    "    K=2,\n",
    "    y=y2_median,\n",
    "    X=x2_median_K2\n",
    ")\n",
    "result_5_K2 = model_5.sample(data=data_5_K2, chains = 4)"
   ]
  },
  {
   "cell_type": "code",
   "execution_count": 209,
   "metadata": {},
   "outputs": [
    {
     "name": "stderr",
     "output_type": "stream",
     "text": [
      "INFO:cmdstanpy:CmdStan start procesing\n",
      "chain 1 |\u001b[33m          \u001b[0m| 00:00 Status\n",
      "\u001b[A\n",
      "\n",
      "\u001b[A\u001b[A\n",
      "\n",
      "chain 1 |\u001b[33m█▎        \u001b[0m| 00:00 Iteration:  100 / 2000 [  5%]  (Warmup)\n",
      "\u001b[A\n",
      "\n",
      "chain 1 |\u001b[33m███▏      \u001b[0m| 00:00 Iteration:  500 / 2000 [ 25%]  (Warmup)\n",
      "\u001b[A\n",
      "chain 1 |\u001b[33m█████     \u001b[0m| 00:00 Iteration:  900 / 2000 [ 45%]  (Warmup)\n",
      "\n",
      "chain 1 |\u001b[34m██████▎   \u001b[0m| 00:01 Iteration: 1100 / 2000 [ 55%]  (Sampling)\n",
      "\n",
      "\u001b[A\u001b[A\n",
      "chain 1 |\u001b[34m███████▎  \u001b[0m| 00:02 Iteration: 1300 / 2000 [ 65%]  (Sampling)\n",
      "\n",
      "chain 1 |\u001b[34m████████▏ \u001b[0m| 00:04 Iteration: 1500 / 2000 [ 75%]  (Sampling)\n",
      "\u001b[A\n",
      "\n",
      "chain 1 |\u001b[34m████████▋ \u001b[0m| 00:04 Iteration: 1600 / 2000 [ 80%]  (Sampling)\n",
      "\n",
      "chain 1 |\u001b[34m█████████ \u001b[0m| 00:05 Iteration: 1700 / 2000 [ 85%]  (Sampling)\n",
      "\u001b[A\n",
      "\n",
      "chain 1 |\u001b[34m█████████▌\u001b[0m| 00:06 Iteration: 1800 / 2000 [ 90%]  (Sampling)\n",
      "\u001b[A\n",
      "\n",
      "chain 1 |\u001b[34m██████████\u001b[0m| 00:06 Iteration: 1900 / 2000 [ 95%]  (Sampling)\n",
      "\u001b[A\n",
      "\n",
      "chain 1 |\u001b[34m██████████\u001b[0m| 00:06 Sampling completed                       \n",
      "chain 2 |\u001b[34m██████████\u001b[0m| 00:06 Sampling completed                       \n",
      "chain 3 |\u001b[34m██████████\u001b[0m| 00:06 Sampling completed                       \n",
      "chain 4 |\u001b[34m██████████\u001b[0m| 00:06 Sampling completed                       "
     ]
    },
    {
     "name": "stdout",
     "output_type": "stream",
     "text": [
      "                                                                                                                                                                                                                                                                                                                                "
     ]
    },
    {
     "name": "stderr",
     "output_type": "stream",
     "text": [
      "\n",
      "INFO:cmdstanpy:CmdStan done processing.\n"
     ]
    },
    {
     "name": "stdout",
     "output_type": "stream",
     "text": [
      "\n"
     ]
    }
   ],
   "source": [
    "data_5_K3=dict(\n",
    "    N=N,\n",
    "    K=3,\n",
    "    y=y2_median,\n",
    "    X=x2_median_K3\n",
    ")\n",
    "result_5_K3 = model_5.sample(data=data_5_K3, chains = 4)"
   ]
  },
  {
   "cell_type": "markdown",
   "metadata": {},
   "source": [
    "2.Compare models for 1, 2 and 3 predictors as in previous excercise"
   ]
  },
  {
   "cell_type": "code",
   "execution_count": 222,
   "metadata": {},
   "outputs": [
    {
     "data": {
      "text/plain": [
       "<AxesSubplot:xlabel='Log'>"
      ]
     },
     "execution_count": 222,
     "metadata": {},
     "output_type": "execute_result"
    },
    {
     "data": {
      "image/png": "[encoded data removed]",
      "text/plain": [
       "<Figure size 432x216 with 1 Axes>"
      ]
     },
     "metadata": {
      "needs_background": "light"
     },
     "output_type": "display_data"
    },
    {
     "data": {
      "image/png": "[encoded data removed]",
      "text/plain": [
       "<Figure size 432x216 with 1 Axes>"
      ]
     },
     "metadata": {
      "needs_background": "light"
     },
     "output_type": "display_data"
    }
   ],
   "source": [
    "results_5 = {'result_5_K1': result_5_K1,'result_5_K3': result_5_K3,'result_5_K2': result_5_K2}\n",
    "comparisson_waic_5 = az.compare(results_5, ic = 'waic')\n",
    "az.plot_compare(comparisson_waic_5)\n",
    "comparisson_loo_5 = az.compare(results_5, ic = 'loo')\n",
    "az.plot_compare(comparisson_loo_5)"
   ]
  },
  {
   "cell_type": "code",
   "execution_count": 223,
   "metadata": {},
   "outputs": [
    {
     "data": {
      "text/html": [
       "<div>\n",
       "<style scoped>\n",
       "    .dataframe tbody tr th:only-of-type {\n",
       "        vertical-align: middle;\n",
       "    }\n",
       "\n",
       "    .dataframe tbody tr th {\n",
       "        vertical-align: top;\n",
       "    }\n",
       "\n",
       "    .dataframe thead th {\n",
       "        text-align: right;\n",
       "    }\n",
       "</style>\n",
       "<table border=\"1\" class=\"dataframe\">\n",
       "  <thead>\n",
       "    <tr style=\"text-align: right;\">\n",
       "      <th></th>\n",
       "      <th>Mean</th>\n",
       "      <th>MCSE</th>\n",
       "      <th>StdDev</th>\n",
       "      <th>5%</th>\n",
       "      <th>50%</th>\n",
       "      <th>95%</th>\n",
       "      <th>N_Eff</th>\n",
       "      <th>N_Eff/s</th>\n",
       "      <th>R_hat</th>\n",
       "    </tr>\n",
       "    <tr>\n",
       "      <th>name</th>\n",
       "      <th></th>\n",
       "      <th></th>\n",
       "      <th></th>\n",
       "      <th></th>\n",
       "      <th></th>\n",
       "      <th></th>\n",
       "      <th></th>\n",
       "      <th></th>\n",
       "      <th></th>\n",
       "    </tr>\n",
       "  </thead>\n",
       "  <tbody>\n",
       "    <tr>\n",
       "      <th>lp__</th>\n",
       "      <td>3600.000</td>\n",
       "      <td>0.029000</td>\n",
       "      <td>1.40000</td>\n",
       "      <td>3600.000</td>\n",
       "      <td>3600.000</td>\n",
       "      <td>3600.0000</td>\n",
       "      <td>2300.0</td>\n",
       "      <td>89.0</td>\n",
       "      <td>1.0</td>\n",
       "    </tr>\n",
       "    <tr>\n",
       "      <th>sigma</th>\n",
       "      <td>0.037</td>\n",
       "      <td>0.000011</td>\n",
       "      <td>0.00076</td>\n",
       "      <td>0.036</td>\n",
       "      <td>0.037</td>\n",
       "      <td>0.0390</td>\n",
       "      <td>5200.0</td>\n",
       "      <td>200.0</td>\n",
       "      <td>1.0</td>\n",
       "    </tr>\n",
       "    <tr>\n",
       "      <th>beta[1]</th>\n",
       "      <td>1.500</td>\n",
       "      <td>0.000760</td>\n",
       "      <td>0.05000</td>\n",
       "      <td>1.400</td>\n",
       "      <td>1.500</td>\n",
       "      <td>1.6000</td>\n",
       "      <td>4412.0</td>\n",
       "      <td>168.0</td>\n",
       "      <td>1.0</td>\n",
       "    </tr>\n",
       "    <tr>\n",
       "      <th>beta[2]</th>\n",
       "      <td>0.610</td>\n",
       "      <td>0.000840</td>\n",
       "      <td>0.05400</td>\n",
       "      <td>0.520</td>\n",
       "      <td>0.610</td>\n",
       "      <td>0.7000</td>\n",
       "      <td>4107.0</td>\n",
       "      <td>156.0</td>\n",
       "      <td>1.0</td>\n",
       "    </tr>\n",
       "    <tr>\n",
       "      <th>beta[3]</th>\n",
       "      <td>0.340</td>\n",
       "      <td>0.000810</td>\n",
       "      <td>0.05000</td>\n",
       "      <td>0.260</td>\n",
       "      <td>0.340</td>\n",
       "      <td>0.4300</td>\n",
       "      <td>3885.0</td>\n",
       "      <td>148.0</td>\n",
       "      <td>1.0</td>\n",
       "    </tr>\n",
       "    <tr>\n",
       "      <th>...</th>\n",
       "      <td>...</td>\n",
       "      <td>...</td>\n",
       "      <td>...</td>\n",
       "      <td>...</td>\n",
       "      <td>...</td>\n",
       "      <td>...</td>\n",
       "      <td>...</td>\n",
       "      <td>...</td>\n",
       "      <td>...</td>\n",
       "    </tr>\n",
       "    <tr>\n",
       "      <th>y_hat[1296]</th>\n",
       "      <td>-0.058</td>\n",
       "      <td>0.000610</td>\n",
       "      <td>0.03800</td>\n",
       "      <td>-0.120</td>\n",
       "      <td>-0.058</td>\n",
       "      <td>0.0047</td>\n",
       "      <td>3830.0</td>\n",
       "      <td>146.0</td>\n",
       "      <td>1.0</td>\n",
       "    </tr>\n",
       "    <tr>\n",
       "      <th>y_hat[1297]</th>\n",
       "      <td>-0.076</td>\n",
       "      <td>0.000590</td>\n",
       "      <td>0.03700</td>\n",
       "      <td>-0.140</td>\n",
       "      <td>-0.077</td>\n",
       "      <td>-0.0150</td>\n",
       "      <td>3936.0</td>\n",
       "      <td>150.0</td>\n",
       "      <td>1.0</td>\n",
       "    </tr>\n",
       "    <tr>\n",
       "      <th>y_hat[1298]</th>\n",
       "      <td>-0.012</td>\n",
       "      <td>0.000620</td>\n",
       "      <td>0.03800</td>\n",
       "      <td>-0.074</td>\n",
       "      <td>-0.012</td>\n",
       "      <td>0.0490</td>\n",
       "      <td>3777.0</td>\n",
       "      <td>144.0</td>\n",
       "      <td>1.0</td>\n",
       "    </tr>\n",
       "    <tr>\n",
       "      <th>y_hat[1299]</th>\n",
       "      <td>0.086</td>\n",
       "      <td>0.000600</td>\n",
       "      <td>0.03700</td>\n",
       "      <td>0.025</td>\n",
       "      <td>0.086</td>\n",
       "      <td>0.1500</td>\n",
       "      <td>3823.0</td>\n",
       "      <td>146.0</td>\n",
       "      <td>1.0</td>\n",
       "    </tr>\n",
       "    <tr>\n",
       "      <th>y_hat[1300]</th>\n",
       "      <td>0.021</td>\n",
       "      <td>0.000580</td>\n",
       "      <td>0.03700</td>\n",
       "      <td>-0.039</td>\n",
       "      <td>0.022</td>\n",
       "      <td>0.0820</td>\n",
       "      <td>4117.0</td>\n",
       "      <td>157.0</td>\n",
       "      <td>1.0</td>\n",
       "    </tr>\n",
       "  </tbody>\n",
       "</table>\n",
       "<p>3905 rows × 9 columns</p>\n",
       "</div>"
      ],
      "text/plain": [
       "                 Mean      MCSE   StdDev        5%       50%        95%  \\\n",
       "name                                                                      \n",
       "lp__         3600.000  0.029000  1.40000  3600.000  3600.000  3600.0000   \n",
       "sigma           0.037  0.000011  0.00076     0.036     0.037     0.0390   \n",
       "beta[1]         1.500  0.000760  0.05000     1.400     1.500     1.6000   \n",
       "beta[2]         0.610  0.000840  0.05400     0.520     0.610     0.7000   \n",
       "beta[3]         0.340  0.000810  0.05000     0.260     0.340     0.4300   \n",
       "...               ...       ...      ...       ...       ...        ...   \n",
       "y_hat[1296]    -0.058  0.000610  0.03800    -0.120    -0.058     0.0047   \n",
       "y_hat[1297]    -0.076  0.000590  0.03700    -0.140    -0.077    -0.0150   \n",
       "y_hat[1298]    -0.012  0.000620  0.03800    -0.074    -0.012     0.0490   \n",
       "y_hat[1299]     0.086  0.000600  0.03700     0.025     0.086     0.1500   \n",
       "y_hat[1300]     0.021  0.000580  0.03700    -0.039     0.022     0.0820   \n",
       "\n",
       "              N_Eff  N_Eff/s  R_hat  \n",
       "name                                 \n",
       "lp__         2300.0     89.0    1.0  \n",
       "sigma        5200.0    200.0    1.0  \n",
       "beta[1]      4412.0    168.0    1.0  \n",
       "beta[2]      4107.0    156.0    1.0  \n",
       "beta[3]      3885.0    148.0    1.0  \n",
       "...             ...      ...    ...  \n",
       "y_hat[1296]  3830.0    146.0    1.0  \n",
       "y_hat[1297]  3936.0    150.0    1.0  \n",
       "y_hat[1298]  3777.0    144.0    1.0  \n",
       "y_hat[1299]  3823.0    146.0    1.0  \n",
       "y_hat[1300]  4117.0    157.0    1.0  \n",
       "\n",
       "[3905 rows x 9 columns]"
      ]
     },
     "execution_count": 223,
     "metadata": {},
     "output_type": "execute_result"
    }
   ],
   "source": [
    "result_5_K3.summary()"
   ]
  },
  {
   "cell_type": "code",
   "execution_count": 235,
   "metadata": {},
   "outputs": [
    {
     "data": {
      "image/png": "[encoded data removed]",
      "text/plain": [
       "<Figure size 432x288 with 1 Axes>"
      ]
     },
     "metadata": {
      "needs_background": "light"
     },
     "output_type": "display_data"
    },
    {
     "data": {
      "image/png": "[encoded data removed]",
      "text/plain": [
       "<Figure size 432x288 with 1 Axes>"
      ]
     },
     "metadata": {
      "needs_background": "light"
     },
     "output_type": "display_data"
    },
    {
     "data": {
      "image/png": "[encoded data removed]",
      "text/plain": [
       "<Figure size 432x288 with 1 Axes>"
      ]
     },
     "metadata": {
      "needs_background": "light"
     },
     "output_type": "display_data"
    },
    {
     "data": {
      "image/png": "[encoded data removed]",
      "text/plain": [
       "<Figure size 432x288 with 1 Axes>"
      ]
     },
     "metadata": {
      "needs_background": "light"
     },
     "output_type": "display_data"
    },
    {
     "data": {
      "image/png": "[encoded data removed]",
      "text/plain": [
       "<Figure size 432x288 with 1 Axes>"
      ]
     },
     "metadata": {
      "needs_background": "light"
     },
     "output_type": "display_data"
    }
   ],
   "source": [
    "med_prob_ppc_5_2 = np.percentile(result_5_K3.stan_variable('y_hat'),[5,16,50,84,95],axis=0)\n",
    "med_prob_ppc = med_prob_ppc_5_2\n",
    "plt.plot(med_prob_ppc[0])\n",
    "plt.plot(med_prob_ppc[1])\n",
    "plt.plot(med_prob_ppc[3])\n",
    "plt.plot(med_prob_ppc[4])\n",
    "plt.plot(med_prob_ppc[2])\n",
    "plt.plot(y2_median)\n",
    "labels= [ \"5%\", \"16%\",\"84%\",\"95%\",\"50%\",\"y2_median\"]\n",
    "plt.legend(labels)\n",
    "plt.show()\n",
    "\n",
    "y_hat_5_2_median=np.percentile(result_5_K3.stan_variable('y_hat')[:,:],50,axis=0)\n",
    "plt.hist(y_hat_5_2_median,bins=40)\n",
    "plt.show()\n",
    "plt.hist(y2_median,bins=40)\n",
    "plt.show()\n",
    "\n",
    "\n",
    "\n",
    "err=y_hat_5_2_median-y2_median\n",
    "plt.plot(err)\n",
    "plt.show()\n",
    "plt.hist(err,bins=40)\n",
    "plt.show()\n"
   ]
  }
 ],
 "metadata": {
  "interpreter": {
   "hash": "ad2bdc8ecc057115af97d19610ffacc2b4e99fae6737bb82f5d7fb13d2f2c186"
  },
  "kernelspec": {
   "display_name": "Python 3.9.12 ('base')",
   "language": "python",
   "name": "python3"
  },
  "language_info": {
   "codemirror_mode": {
    "name": "ipython",
    "version": 3
   },
   "file_extension": ".py",
   "mimetype": "text/x-python",
   "name": "python",
   "nbconvert_exporter": "python",
   "pygments_lexer": "ipython3",
   "version": "3.9.12"
  },
  "orig_nbformat": 4
 },
 "nbformat": 4,
 "nbformat_minor": 2
}
