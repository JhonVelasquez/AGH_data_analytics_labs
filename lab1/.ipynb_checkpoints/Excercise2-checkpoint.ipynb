{
 "cells": [
  {
   "cell_type": "code",
   "execution_count": 1,
   "id": "31bfca84",
   "metadata": {
    "scrolled": true
   },
   "outputs": [
    {
     "name": "stdout",
     "output_type": "stream",
     "text": [
      "{'C1': {'R1': 1, 'R2': 4, 'R3': 7}, 'C2': {'R1': 2, 'R2': 5, 'R3': 8}, 'C3': {'R1': 3, 'R2': 6, 'R3': 9}}\n",
      "    C1  C2  C3\n",
      "R1   1   2   3\n",
      "R2   4   5   6\n",
      "R3   7   8   9\n"
     ]
    }
   ],
   "source": [
    "#how to work with dictionaries\n",
    "import pandas as pd\n",
    "dic={'C1': {'R1': 1, 'R2': 4, 'R3': 7}, 'C2': {'R1': 2, 'R2': 5, 'R3': 8}, 'C3': {'R1': 3, 'R2': 6, 'R3': 9}}\n",
    "print(dic)\n",
    "df=pd.DataFrame.from_dict(dic)\n",
    "print(df)"
   ]
  },
  {
   "cell_type": "code",
   "execution_count": 2,
   "id": "7ef56837",
   "metadata": {},
   "outputs": [],
   "source": [
    "import matplotlib.pyplot as plt\n",
    "import pandas as pd\n",
    "import itertools\n",
    "import numpy as np\n",
    "from cmdstanpy import CmdStanModel\n",
    "import statistics"
   ]
  },
  {
   "cell_type": "code",
   "execution_count": 3,
   "id": "e2aad5ab",
   "metadata": {},
   "outputs": [
    {
     "name": "stderr",
     "output_type": "stream",
     "text": [
      "INFO:cmdstanpy:found newer exe file, not recompiling\n"
     ]
    }
   ],
   "source": [
    "model = CmdStanModel(stan_file='bern_1.stan')"
   ]
  },
  {
   "cell_type": "code",
   "execution_count": 5,
   "id": "0a4fb8bc",
   "metadata": {},
   "outputs": [],
   "source": [
    "#jhon velasquez\n",
    "#F=4\n",
    "#L=9\n",
    "F=len(\"jhon\")\n",
    "L=len(\"velasquez\")\n",
    "N=F+L\n",
    "y=list(itertools.repeat(0, F))+list(itertools.repeat(1, L))\n",
    "dic = {\"N\":N,\"y\":y}"
   ]
  },
  {
   "cell_type": "code",
   "execution_count": 130,
   "id": "9f9732c2",
   "metadata": {},
   "outputs": [
    {
     "data": {
      "text/plain": [
       "{'N': 15, 'y': [0, 0, 0, 0, 0, 0, 0, 0, 0, 1, 1, 1, 1, 1, 1]}"
      ]
     },
     "execution_count": 130,
     "metadata": {},
     "output_type": "execute_result"
    }
   ],
   "source": [
    "dic"
   ]
  },
  {
   "cell_type": "code",
   "execution_count": null,
   "id": "2bf5e3f9",
   "metadata": {},
   "outputs": [],
   "source": [
    "sample=model.sample(dic)"
   ]
  },
  {
   "cell_type": "code",
   "execution_count": 120,
   "id": "dcd7c044",
   "metadata": {},
   "outputs": [
    {
     "data": {
      "text/html": [
       "<div>\n",
       "<style scoped>\n",
       "    .dataframe tbody tr th:only-of-type {\n",
       "        vertical-align: middle;\n",
       "    }\n",
       "\n",
       "    .dataframe tbody tr th {\n",
       "        vertical-align: top;\n",
       "    }\n",
       "\n",
       "    .dataframe thead th {\n",
       "        text-align: right;\n",
       "    }\n",
       "</style>\n",
       "<table border=\"1\" class=\"dataframe\">\n",
       "  <thead>\n",
       "    <tr style=\"text-align: right;\">\n",
       "      <th></th>\n",
       "      <th>Mean</th>\n",
       "      <th>MCSE</th>\n",
       "      <th>StdDev</th>\n",
       "      <th>5%</th>\n",
       "      <th>50%</th>\n",
       "      <th>95%</th>\n",
       "      <th>N_Eff</th>\n",
       "      <th>N_Eff/s</th>\n",
       "      <th>R_hat</th>\n",
       "    </tr>\n",
       "    <tr>\n",
       "      <th>name</th>\n",
       "      <th></th>\n",
       "      <th></th>\n",
       "      <th></th>\n",
       "      <th></th>\n",
       "      <th></th>\n",
       "      <th></th>\n",
       "      <th></th>\n",
       "      <th></th>\n",
       "      <th></th>\n",
       "    </tr>\n",
       "  </thead>\n",
       "  <tbody>\n",
       "    <tr>\n",
       "      <th>lp__</th>\n",
       "      <td>-12.00</td>\n",
       "      <td>0.0160</td>\n",
       "      <td>0.70</td>\n",
       "      <td>-13.00</td>\n",
       "      <td>-12.00</td>\n",
       "      <td>-12.0</td>\n",
       "      <td>1900.0</td>\n",
       "      <td>16000.0</td>\n",
       "      <td>1.0</td>\n",
       "    </tr>\n",
       "    <tr>\n",
       "      <th>theta</th>\n",
       "      <td>0.41</td>\n",
       "      <td>0.0029</td>\n",
       "      <td>0.11</td>\n",
       "      <td>0.23</td>\n",
       "      <td>0.41</td>\n",
       "      <td>0.6</td>\n",
       "      <td>1600.0</td>\n",
       "      <td>13000.0</td>\n",
       "      <td>1.0</td>\n",
       "    </tr>\n",
       "  </tbody>\n",
       "</table>\n",
       "</div>"
      ],
      "text/plain": [
       "        Mean    MCSE  StdDev     5%    50%   95%   N_Eff  N_Eff/s  R_hat\n",
       "name                                                                    \n",
       "lp__  -12.00  0.0160    0.70 -13.00 -12.00 -12.0  1900.0  16000.0    1.0\n",
       "theta   0.41  0.0029    0.11   0.23   0.41   0.6  1600.0  13000.0    1.0"
      ]
     },
     "execution_count": 120,
     "metadata": {},
     "output_type": "execute_result"
    }
   ],
   "source": [
    "sample.summary()"
   ]
  },
  {
   "cell_type": "code",
   "execution_count": 121,
   "id": "21a2299b",
   "metadata": {},
   "outputs": [],
   "source": [
    "draws_theta = sample.stan_variable('theta')"
   ]
  },
  {
   "cell_type": "code",
   "execution_count": 122,
   "id": "ef1b6314",
   "metadata": {},
   "outputs": [
    {
     "data": {
      "text/plain": [
       "array([0.428139, 0.487709, 0.32422 , ..., 0.355436, 0.393388, 0.486526])"
      ]
     },
     "execution_count": 122,
     "metadata": {},
     "output_type": "execute_result"
    }
   ],
   "source": [
    "draws_theta"
   ]
  },
  {
   "cell_type": "code",
   "execution_count": 123,
   "id": "678da2f5",
   "metadata": {},
   "outputs": [],
   "source": [
    "quant_5, quant_50, quant_95 = np.quantile(draws_theta,0.05), np.quantile(draws_theta,0.5), np.quantile(draws_theta,0.95)\n",
    "mean=statistics.mean(draws_theta)"
   ]
  },
  {
   "cell_type": "code",
   "execution_count": 124,
   "id": "48ff48d3",
   "metadata": {},
   "outputs": [
    {
     "data": {
      "image/png": "[encoded data removed]",
      "text/plain": [
       "<Figure size 432x288 with 1 Axes>"
      ]
     },
     "metadata": {
      "needs_background": "light"
     },
     "output_type": "display_data"
    }
   ],
   "source": [
    "plt.figure\n",
    "plt.hist(draws_theta, bins=50)\n",
    "plt.title(\"Histogram of theta\")\n",
    "min_ylim, max_ylim = plt.ylim()\n",
    "plt.axvline(quant_5, color='k', linestyle='dashed', linewidth=1),plt.text(quant_5,max_ylim*0.6, '5%')\n",
    "plt.axvline(quant_50, color='k', linestyle='dashed', linewidth=1),plt.text(quant_50,max_ylim*0.6, '50%')\n",
    "plt.axvline(quant_95, color='k', linestyle='dashed', linewidth=1),plt.text(quant_95,max_ylim*0.6, '95%')\n",
    "plt.axvline(mean, color='r', linestyle='dashed', linewidth=1),plt.text(mean,max_ylim*0.2, 'x̅', color='r')\n",
    "plt.show()"
   ]
  },
  {
   "cell_type": "code",
   "execution_count": 125,
   "id": "401a4fa6",
   "metadata": {},
   "outputs": [
    {
     "name": "stderr",
     "output_type": "stream",
     "text": [
      "INFO:cmdstanpy:found newer exe file, not recompiling\n",
      "INFO:cmdstanpy:CmdStan start procesing\n"
     ]
    },
    {
     "name": "stdout",
     "output_type": "stream",
     "text": [
      "[0, 0, 0, 0, 0, 0, 0, 0, 0, 1, 1, 1, 1, 1, 1]\n"
     ]
    },
    {
     "data": {
      "application/vnd.jupyter.widget-view+json": {
       "model_id": "e2698b987a3d424693546e4e9b5ba3df",
       "version_major": 2,
       "version_minor": 0
      },
      "text/plain": [
       "chain 1 |          | 00:00 Status"
      ]
     },
     "metadata": {},
     "output_type": "display_data"
    },
    {
     "data": {
      "application/vnd.jupyter.widget-view+json": {
       "model_id": "73cbe07e36b540b2b0b67baaae7c9774",
       "version_major": 2,
       "version_minor": 0
      },
      "text/plain": [
       "chain 2 |          | 00:00 Status"
      ]
     },
     "metadata": {},
     "output_type": "display_data"
    },
    {
     "data": {
      "application/vnd.jupyter.widget-view+json": {
       "model_id": "4b271b8a944c4279980a39ea54c116cc",
       "version_major": 2,
       "version_minor": 0
      },
      "text/plain": [
       "chain 3 |          | 00:00 Status"
      ]
     },
     "metadata": {},
     "output_type": "display_data"
    },
    {
     "data": {
      "application/vnd.jupyter.widget-view+json": {
       "model_id": "6d03a900333b48d5983bb96a909790ae",
       "version_major": 2,
       "version_minor": 0
      },
      "text/plain": [
       "chain 4 |          | 00:00 Status"
      ]
     },
     "metadata": {},
     "output_type": "display_data"
    },
    {
     "name": "stdout",
     "output_type": "stream",
     "text": [
      "                                                                                                                                                                                                                                                                                                                                                                                                                                                                                                "
     ]
    },
    {
     "name": "stderr",
     "output_type": "stream",
     "text": [
      "INFO:cmdstanpy:CmdStan done processing.\n"
     ]
    },
    {
     "name": "stdout",
     "output_type": "stream",
     "text": [
      "\n"
     ]
    },
    {
     "data": {
      "image/png": "[encoded data removed]",
      "text/plain": [
       "<Figure size 432x288 with 1 Axes>"
      ]
     },
     "metadata": {
      "needs_background": "light"
     },
     "output_type": "display_data"
    }
   ],
   "source": [
    "F = len(\"Agnieszka\")\n",
    "L = len(\"Welian\")\n",
    "print([0]*F + [1] * L)\n",
    "stan_data = {\n",
    "    \"N\":F+L,\n",
    "    \"y\":[0] * F + [1] * L\n",
    "}\n",
    "\n",
    "model = CmdStanModel(stan_file='bern_1.stan')\n",
    "sample = model.sample(stan_data)\n",
    "theta = sample.stan_variable('theta')\n",
    "summary = sample.summary()\n",
    "\n",
    "q5=np.quantile(theta,0.05)\n",
    "q50=np.quantile(theta,0.5)\n",
    "q95=np.quantile(theta,0.95)\n",
    "qMean=theta.mean()\n",
    "\n",
    "plt.figure()\n",
    "plt.hist(theta, bins=50)\n",
    "plt.axvline(q5, color='r')\n",
    "plt.axvline(q50, color='g')\n",
    "plt.axvline(q95, color='b')\n",
    "plt.axvline(qMean, color='k')\n",
    "plt.grid(True)\n",
    "plt.legend(['5%','Median','95%','Mean'])\n",
    "plt.show()"
   ]
  },
  {
   "cell_type": "code",
   "execution_count": null,
   "id": "35a64e66",
   "metadata": {},
   "outputs": [],
   "source": []
  }
 ],
 "metadata": {
  "kernelspec": {
   "display_name": "Python 3 (ipykernel)",
   "language": "python",
   "name": "python3"
  },
  "language_info": {
   "codemirror_mode": {
    "name": "ipython",
    "version": 3
   },
   "file_extension": ".py",
   "mimetype": "text/x-python",
   "name": "python",
   "nbconvert_exporter": "python",
   "pygments_lexer": "ipython3",
   "version": "3.9.7"
  }
 },
 "nbformat": 4,
 "nbformat_minor": 5
}
