{
 "cells": [
  {
   "cell_type": "code",
   "execution_count": 13,
   "id": "31bfca84",
   "metadata": {
    "scrolled": true
   },
   "outputs": [
    {
     "name": "stdout",
     "output_type": "stream",
     "text": [
      "{'C1': {'R1': 1, 'R2': 4, 'R3': 7}, 'C2': {'R1': 2, 'R2': 5, 'R3': 8}, 'C3': {'R1': 3, 'R2': 6, 'R3': 9}}\n",
      "    C1  C2  C3\n",
      "R1   1   2   3\n",
      "R2   4   5   6\n",
      "R3   7   8   9\n"
     ]
    }
   ],
   "source": [
    "#how to work with dictionaries\n",
    "import pandas as pd\n",
    "dic={'C1': {'R1': 1, 'R2': 4, 'R3': 7}, 'C2': {'R1': 2, 'R2': 5, 'R3': 8}, 'C3': {'R1': 3, 'R2': 6, 'R3': 9}}\n",
    "print(dic)\n",
    "df=pd.DataFrame.from_dict(dic)\n",
    "print(df)"
   ]
  },
  {
   "cell_type": "code",
   "execution_count": 14,
   "id": "7ef56837",
   "metadata": {},
   "outputs": [],
   "source": [
    "import matplotlib.pyplot as plt\n",
    "import pandas as pd\n",
    "import itertools\n",
    "import numpy as np\n",
    "from cmdstanpy import CmdStanModel\n",
    "import statistics"
   ]
  },
  {
   "cell_type": "code",
   "execution_count": 15,
   "id": "e2aad5ab",
   "metadata": {},
   "outputs": [
    {
     "name": "stderr",
     "output_type": "stream",
     "text": [
      "INFO:cmdstanpy:compiling stan file E:\\AGH\\2022-1\\2_Data_Analytics\\lab1\\bern_1.stan to exe file E:\\AGH\\2022-1\\2_Data_Analytics\\lab1\\bern_1.exe\n",
      "INFO:cmdstanpy:compiled model executable: E:\\AGH\\2022-1\\2_Data_Analytics\\lab1\\bern_1.exe\n",
      "WARNING:cmdstanpy:Stan compiler has produced 1 warnings:\n",
      "WARNING:cmdstanpy:\n",
      "--- Translating Stan model to C++ code ---\n",
      "bin/stanc.exe  --o=E:/AGH/2022-1/2_Data_Analytics/lab1/bern_1.hpp E:/AGH/2022-1/2_Data_Analytics/lab1/bern_1.stan\n",
      "Warning in 'E:/AGH/2022-1/2_Data_Analytics/lab1/bern_1.stan', line 3, column 3: Declaration\n",
      "    of arrays by placing brackets after a variable name is deprecated and\n",
      "    will be removed in Stan 2.32.0. Instead use the array keyword before the\n",
      "    type. This can be changed automatically using the auto-format flag to\n",
      "    stanc\n",
      "\n",
      "--- Compiling, linking C++ code ---\n",
      "g++ -std=c++1y -m64 -D_REENTRANT -Wall -Wno-unused-function -Wno-uninitialized -Wno-unused-but-set-variable -Wno-unused-variable -Wno-sign-compare -Wno-unused-local-typedefs -Wno-int-in-bool-context -Wno-attributes -Wno-ignored-attributes      -I stan/lib/stan_math/lib/tbb_2020.3/include    -O3 -I src -I stan/src -I lib/rapidjson_1.1.0/ -I lib/CLI11-1.9.1/ -I stan/lib/stan_math/ -I stan/lib/stan_math/lib/eigen_3.3.9 -I stan/lib/stan_math/lib/boost_1.75.0 -I stan/lib/stan_math/lib/sundials_6.0.0/include -I stan/lib/stan_math/lib/sundials_6.0.0/src/sundials  -D_USE_MATH_DEFINES  -DBOOST_DISABLE_ASSERTS          -c  -x c++ -o E:/AGH/2022-1/2_Data_Analytics/lab1/bern_1.o E:/AGH/2022-1/2_Data_Analytics/lab1/bern_1.hpp\n",
      "g++ -std=c++1y -m64 -D_REENTRANT -Wall -Wno-unused-function -Wno-uninitialized -Wno-unused-but-set-variable -Wno-unused-variable -Wno-sign-compare -Wno-unused-local-typedefs -Wno-int-in-bool-context -Wno-attributes -Wno-ignored-attributes      -I stan/lib/stan_math/lib/tbb_2020.3/include    -O3 -I src -I stan/src -I lib/rapidjson_1.1.0/ -I lib/CLI11-1.9.1/ -I stan/lib/stan_math/ -I stan/lib/stan_math/lib/eigen_3.3.9 -I stan/lib/stan_math/lib/boost_1.75.0 -I stan/lib/stan_math/lib/sundials_6.0.0/include -I stan/lib/stan_math/lib/sundials_6.0.0/src/sundials  -D_USE_MATH_DEFINES  -DBOOST_DISABLE_ASSERTS                -Wl,-L,\"C:/ProgramData/Anaconda3/Library/bin/cmdstan/stan/lib/stan_math/lib/tbb\" -Wl,-rpath,\"C:/ProgramData/Anaconda3/Library/bin/cmdstan/stan/lib/stan_math/lib/tbb\"      E:/AGH/2022-1/2_Data_Analytics/lab1/bern_1.o src/cmdstan/main.o  -static-libgcc -static-libstdc++      -Wl,-L,\"C:/ProgramData/Anaconda3/Library/bin/cmdstan/stan/lib/stan_math/lib/tbb\" -Wl,-rpath,\"C:/ProgramData/Anaconda3/Library/bin/cmdstan/stan/lib/stan_math/lib/tbb\"   stan/lib/stan_math/lib/sundials_6.0.0/lib/libsundials_nvecserial.a stan/lib/stan_math/lib/sundials_6.0.0/lib/libsundials_cvodes.a stan/lib/stan_math/lib/sundials_6.0.0/lib/libsundials_idas.a stan/lib/stan_math/lib/sundials_6.0.0/lib/libsundials_kinsol.a  stan/lib/stan_math/lib/tbb/tbb.dll -o E:/AGH/2022-1/2_Data_Analytics/lab1/bern_1.exe\n",
      "rm -f E:/AGH/2022-1/2_Data_Analytics/lab1/bern_1.o\n",
      "\n"
     ]
    }
   ],
   "source": [
    "model = CmdStanModel(stan_file='bern_1.stan')"
   ]
  },
  {
   "cell_type": "code",
   "execution_count": 25,
   "id": "e9a937f4",
   "metadata": {},
   "outputs": [
    {
     "data": {
      "text/plain": [
       "CmdStanModel: name=bern_1\n",
       "\t stan_file=E:\\AGH\\2022-1\\2_Data_Analytics\\lab1\\bern_1.stan\n",
       "\t exe_file=E:\\AGH\\2022-1\\2_Data_Analytics\\lab1\\bern_1.exe\n",
       "\t compiler_options=stanc_options={}, cpp_options={}"
      ]
     },
     "execution_count": 25,
     "metadata": {},
     "output_type": "execute_result"
    }
   ],
   "source": [
    "model"
   ]
  },
  {
   "cell_type": "code",
   "execution_count": 16,
   "id": "0a4fb8bc",
   "metadata": {},
   "outputs": [],
   "source": [
    "#jhon velasquez\n",
    "#F=4\n",
    "#L=9\n",
    "F=len(\"jhon\") #4\n",
    "L=len(\"velasquez\") #9\n",
    "N=F+L\n",
    "y=list(itertools.repeat(0, F))+list(itertools.repeat(1, L))\n",
    "dic = {\"N\":N,\"y\":y}"
   ]
  },
  {
   "cell_type": "code",
   "execution_count": 17,
   "id": "9f9732c2",
   "metadata": {},
   "outputs": [
    {
     "data": {
      "text/plain": [
       "{'N': 13, 'y': [0, 0, 0, 0, 1, 1, 1, 1, 1, 1, 1, 1, 1]}"
      ]
     },
     "execution_count": 17,
     "metadata": {},
     "output_type": "execute_result"
    }
   ],
   "source": [
    "dic"
   ]
  },
  {
   "cell_type": "code",
   "execution_count": 18,
   "id": "2bf5e3f9",
   "metadata": {},
   "outputs": [
    {
     "name": "stderr",
     "output_type": "stream",
     "text": [
      "INFO:cmdstanpy:CmdStan start procesing\n",
      "chain 1 |\u001b[33m          \u001b[0m| 00:00 Status\n",
      "\u001b[A\n",
      "\n",
      "\u001b[A\u001b[A\n",
      "\n",
      "\u001b[A\u001b[A\n",
      "chain 1 |\u001b[33m███▋      \u001b[0m| 00:00 Iteration:  600 / 2000 [ 30%]  (Warmup)\n",
      "\n",
      "\u001b[A\u001b[A\n",
      "chain 1 |\u001b[34m██████████\u001b[0m| 00:00 Sampling completed                       \n",
      "chain 2 |\u001b[34m██████████\u001b[0m| 00:00 Sampling completed                       \n",
      "chain 3 |\u001b[34m██████████\u001b[0m| 00:00 Sampling completed                       \n",
      "chain 4 |\u001b[34m██████████\u001b[0m| 00:00 Sampling completed                       "
     ]
    },
    {
     "name": "stdout",
     "output_type": "stream",
     "text": [
      "                                                                                                                                                                                                                                                                                                                                "
     ]
    },
    {
     "name": "stderr",
     "output_type": "stream",
     "text": [
      "\n",
      "INFO:cmdstanpy:CmdStan done processing.\n"
     ]
    },
    {
     "name": "stdout",
     "output_type": "stream",
     "text": [
      "\n"
     ]
    }
   ],
   "source": [
    "sample=model.sample(dic)"
   ]
  },
  {
   "cell_type": "code",
   "execution_count": 19,
   "id": "dcd7c044",
   "metadata": {},
   "outputs": [
    {
     "data": {
      "text/html": [
       "<div>\n",
       "<style scoped>\n",
       "    .dataframe tbody tr th:only-of-type {\n",
       "        vertical-align: middle;\n",
       "    }\n",
       "\n",
       "    .dataframe tbody tr th {\n",
       "        vertical-align: top;\n",
       "    }\n",
       "\n",
       "    .dataframe thead th {\n",
       "        text-align: right;\n",
       "    }\n",
       "</style>\n",
       "<table border=\"1\" class=\"dataframe\">\n",
       "  <thead>\n",
       "    <tr style=\"text-align: right;\">\n",
       "      <th></th>\n",
       "      <th>Mean</th>\n",
       "      <th>MCSE</th>\n",
       "      <th>StdDev</th>\n",
       "      <th>5%</th>\n",
       "      <th>50%</th>\n",
       "      <th>95%</th>\n",
       "      <th>N_Eff</th>\n",
       "      <th>N_Eff/s</th>\n",
       "      <th>R_hat</th>\n",
       "    </tr>\n",
       "    <tr>\n",
       "      <th>name</th>\n",
       "      <th></th>\n",
       "      <th></th>\n",
       "      <th></th>\n",
       "      <th></th>\n",
       "      <th></th>\n",
       "      <th></th>\n",
       "      <th></th>\n",
       "      <th></th>\n",
       "      <th></th>\n",
       "    </tr>\n",
       "  </thead>\n",
       "  <tbody>\n",
       "    <tr>\n",
       "      <th>lp__</th>\n",
       "      <td>-10.00</td>\n",
       "      <td>0.0190</td>\n",
       "      <td>0.76</td>\n",
       "      <td>-12.00</td>\n",
       "      <td>-9.80</td>\n",
       "      <td>-9.50</td>\n",
       "      <td>1600.0</td>\n",
       "      <td>3800.0</td>\n",
       "      <td>1.0</td>\n",
       "    </tr>\n",
       "    <tr>\n",
       "      <th>theta</th>\n",
       "      <td>0.66</td>\n",
       "      <td>0.0031</td>\n",
       "      <td>0.12</td>\n",
       "      <td>0.45</td>\n",
       "      <td>0.67</td>\n",
       "      <td>0.85</td>\n",
       "      <td>1400.0</td>\n",
       "      <td>3400.0</td>\n",
       "      <td>1.0</td>\n",
       "    </tr>\n",
       "  </tbody>\n",
       "</table>\n",
       "</div>"
      ],
      "text/plain": [
       "        Mean    MCSE  StdDev     5%   50%   95%   N_Eff  N_Eff/s  R_hat\n",
       "name                                                                   \n",
       "lp__  -10.00  0.0190    0.76 -12.00 -9.80 -9.50  1600.0   3800.0    1.0\n",
       "theta   0.66  0.0031    0.12   0.45  0.67  0.85  1400.0   3400.0    1.0"
      ]
     },
     "execution_count": 19,
     "metadata": {},
     "output_type": "execute_result"
    }
   ],
   "source": [
    "sample.summary()"
   ]
  },
  {
   "cell_type": "code",
   "execution_count": 20,
   "id": "21a2299b",
   "metadata": {},
   "outputs": [],
   "source": [
    "draws_theta = sample.stan_variable('theta')"
   ]
  },
  {
   "cell_type": "code",
   "execution_count": 21,
   "id": "ef1b6314",
   "metadata": {},
   "outputs": [
    {
     "data": {
      "text/plain": [
       "array([0.851575, 0.880609, 0.740942, ..., 0.716977, 0.764172, 0.746285])"
      ]
     },
     "execution_count": 21,
     "metadata": {},
     "output_type": "execute_result"
    }
   ],
   "source": [
    "draws_theta"
   ]
  },
  {
   "cell_type": "code",
   "execution_count": 22,
   "id": "3aa65547",
   "metadata": {},
   "outputs": [
    {
     "data": {
      "text/plain": [
       "4000"
      ]
     },
     "execution_count": 22,
     "metadata": {},
     "output_type": "execute_result"
    }
   ],
   "source": [
    "len(draws_theta)"
   ]
  },
  {
   "cell_type": "code",
   "execution_count": 23,
   "id": "678da2f5",
   "metadata": {},
   "outputs": [],
   "source": [
    "quant_5, quant_50, quant_95 = np.quantile(draws_theta,0.05), np.quantile(draws_theta,0.5), np.quantile(draws_theta,0.95)\n",
    "mean=statistics.mean(draws_theta)"
   ]
  },
  {
   "cell_type": "code",
   "execution_count": 24,
   "id": "48ff48d3",
   "metadata": {},
   "outputs": [
    {
     "data": {
      "image/png": "[encoded data removed]",
      "text/plain": [
       "<Figure size 432x288 with 1 Axes>"
      ]
     },
     "metadata": {
      "needs_background": "light"
     },
     "output_type": "display_data"
    }
   ],
   "source": [
    "plt.figure\n",
    "plt.hist(draws_theta, bins=50)\n",
    "plt.title(\"Histogram of theta\")\n",
    "min_ylim, max_ylim = plt.ylim()\n",
    "plt.axvline(quant_5, color='k', linestyle='dashed', linewidth=1),plt.text(quant_5,max_ylim*0.6, '5%')\n",
    "plt.axvline(quant_50, color='k', linestyle='dashed', linewidth=1),plt.text(quant_50,max_ylim*0.6, '50%')\n",
    "plt.axvline(quant_95, color='k', linestyle='dashed', linewidth=1),plt.text(quant_95,max_ylim*0.6, '95%')\n",
    "plt.axvline(mean, color='r', linestyle='dashed', linewidth=1),plt.text(mean,max_ylim*0.2, 'x̅', color='r')\n",
    "plt.show()"
   ]
  }
 ],
 "metadata": {
  "kernelspec": {
   "display_name": "Python 3 (ipykernel)",
   "language": "python",
   "name": "python3"
  },
  "language_info": {
   "codemirror_mode": {
    "name": "ipython",
    "version": 3
   },
   "file_extension": ".py",
   "mimetype": "text/x-python",
   "name": "python",
   "nbconvert_exporter": "python",
   "pygments_lexer": "ipython3",
   "version": "3.9.12"
  }
 },
 "nbformat": 4,
 "nbformat_minor": 5
}
